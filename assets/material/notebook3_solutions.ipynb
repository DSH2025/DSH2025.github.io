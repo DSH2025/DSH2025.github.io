{
  "cells": [
    {
      "cell_type": "markdown",
      "metadata": {
        "id": "Z5MpOi4TR-0y"
      },
      "source": [
        "## Enriching High-order topologies\n",
        "\n",
        "Depending on the problem at hand, it might be necessary to integrate additional information to the (pairwise/high-order) network structure, e.g., demographic information, opinions, psycholinguistic features, etc.\n",
        "Often, this is done via node attributes, i.e., features that are attached to individual nodes.\n",
        "\n",
        "\n"
      ]
    },
    {
      "cell_type": "code",
      "execution_count": 2,
      "metadata": {
        "colab": {
          "base_uri": "https://localhost:8080/"
        },
        "id": "_2x_6XWYxDF3",
        "outputId": "de691895-5139-430c-b4c6-4bbcbc4598d4"
      },
      "outputs": [
        {
          "name": "stdout",
          "output_type": "stream",
          "text": [
            "Defaulting to user installation because normal site-packages is not writeable\n",
            "Requirement already satisfied: hypergraphx==1.7.3 in /Users/danieledevinco/Library/Python/3.9/lib/python/site-packages (1.7.3)\n",
            "Requirement already satisfied: scipy in /Users/danieledevinco/Library/Python/3.9/lib/python/site-packages (from hypergraphx==1.7.3) (1.13.1)\n",
            "Requirement already satisfied: matplotlib in /Users/danieledevinco/Library/Python/3.9/lib/python/site-packages (from hypergraphx==1.7.3) (3.9.4)\n",
            "Requirement already satisfied: scikit-learn in /Users/danieledevinco/Library/Python/3.9/lib/python/site-packages (from hypergraphx==1.7.3) (1.6.1)\n",
            "Requirement already satisfied: pytest in /Users/danieledevinco/Library/Python/3.9/lib/python/site-packages (from hypergraphx==1.7.3) (8.4.1)\n",
            "Requirement already satisfied: networkx in /Users/danieledevinco/Library/Python/3.9/lib/python/site-packages (from hypergraphx==1.7.3) (3.2.1)\n",
            "Requirement already satisfied: pandas in /Users/danieledevinco/Library/Python/3.9/lib/python/site-packages (from hypergraphx==1.7.3) (2.3.0)\n",
            "Requirement already satisfied: numpy in /Users/danieledevinco/Library/Python/3.9/lib/python/site-packages (from hypergraphx==1.7.3) (2.0.2)\n",
            "Requirement already satisfied: seaborn in /Users/danieledevinco/Library/Python/3.9/lib/python/site-packages (from hypergraphx==1.7.3) (0.13.2)\n",
            "Requirement already satisfied: fonttools>=4.22.0 in /Users/danieledevinco/Library/Python/3.9/lib/python/site-packages (from matplotlib->hypergraphx==1.7.3) (4.58.4)\n",
            "Requirement already satisfied: kiwisolver>=1.3.1 in /Users/danieledevinco/Library/Python/3.9/lib/python/site-packages (from matplotlib->hypergraphx==1.7.3) (1.4.7)\n",
            "Requirement already satisfied: pillow>=8 in /Users/danieledevinco/Library/Python/3.9/lib/python/site-packages (from matplotlib->hypergraphx==1.7.3) (11.2.1)\n",
            "Requirement already satisfied: contourpy>=1.0.1 in /Users/danieledevinco/Library/Python/3.9/lib/python/site-packages (from matplotlib->hypergraphx==1.7.3) (1.3.0)\n",
            "Requirement already satisfied: pyparsing>=2.3.1 in /Users/danieledevinco/Library/Python/3.9/lib/python/site-packages (from matplotlib->hypergraphx==1.7.3) (3.2.3)\n",
            "Requirement already satisfied: packaging>=20.0 in /Users/danieledevinco/Library/Python/3.9/lib/python/site-packages (from matplotlib->hypergraphx==1.7.3) (25.0)\n",
            "Requirement already satisfied: python-dateutil>=2.7 in /Users/danieledevinco/Library/Python/3.9/lib/python/site-packages (from matplotlib->hypergraphx==1.7.3) (2.9.0.post0)\n",
            "Requirement already satisfied: cycler>=0.10 in /Users/danieledevinco/Library/Python/3.9/lib/python/site-packages (from matplotlib->hypergraphx==1.7.3) (0.12.1)\n",
            "Requirement already satisfied: importlib-resources>=3.2.0 in /Users/danieledevinco/Library/Python/3.9/lib/python/site-packages (from matplotlib->hypergraphx==1.7.3) (6.5.2)\n",
            "Requirement already satisfied: zipp>=3.1.0 in /Users/danieledevinco/Library/Python/3.9/lib/python/site-packages (from importlib-resources>=3.2.0->matplotlib->hypergraphx==1.7.3) (3.23.0)\n",
            "Requirement already satisfied: six>=1.5 in /Library/Developer/CommandLineTools/Library/Frameworks/Python3.framework/Versions/3.9/lib/python3.9/site-packages (from python-dateutil>=2.7->matplotlib->hypergraphx==1.7.3) (1.15.0)\n",
            "Requirement already satisfied: tzdata>=2022.7 in /Users/danieledevinco/Library/Python/3.9/lib/python/site-packages (from pandas->hypergraphx==1.7.3) (2025.2)\n",
            "Requirement already satisfied: pytz>=2020.1 in /Users/danieledevinco/Library/Python/3.9/lib/python/site-packages (from pandas->hypergraphx==1.7.3) (2025.2)\n",
            "Requirement already satisfied: pygments>=2.7.2 in /Users/danieledevinco/Library/Python/3.9/lib/python/site-packages (from pytest->hypergraphx==1.7.3) (2.19.1)\n",
            "Requirement already satisfied: pluggy<2,>=1.5 in /Users/danieledevinco/Library/Python/3.9/lib/python/site-packages (from pytest->hypergraphx==1.7.3) (1.6.0)\n",
            "Requirement already satisfied: exceptiongroup>=1 in /Users/danieledevinco/Library/Python/3.9/lib/python/site-packages (from pytest->hypergraphx==1.7.3) (1.3.0)\n",
            "Requirement already satisfied: tomli>=1 in /Users/danieledevinco/Library/Python/3.9/lib/python/site-packages (from pytest->hypergraphx==1.7.3) (2.2.1)\n",
            "Requirement already satisfied: iniconfig>=1 in /Users/danieledevinco/Library/Python/3.9/lib/python/site-packages (from pytest->hypergraphx==1.7.3) (2.1.0)\n",
            "Requirement already satisfied: typing-extensions>=4.6.0 in /Users/danieledevinco/Library/Python/3.9/lib/python/site-packages (from exceptiongroup>=1->pytest->hypergraphx==1.7.3) (4.14.0)\n",
            "Requirement already satisfied: threadpoolctl>=3.1.0 in /Users/danieledevinco/Library/Python/3.9/lib/python/site-packages (from scikit-learn->hypergraphx==1.7.3) (3.6.0)\n",
            "Requirement already satisfied: joblib>=1.2.0 in /Users/danieledevinco/Library/Python/3.9/lib/python/site-packages (from scikit-learn->hypergraphx==1.7.3) (1.5.1)\n",
            "\u001b[33mWARNING: You are using pip version 21.2.4; however, version 25.1.1 is available.\n",
            "You should consider upgrading via the '/Library/Developer/CommandLineTools/usr/bin/python3 -m pip install --upgrade pip' command.\u001b[0m\n",
            "Defaulting to user installation because normal site-packages is not writeable\n",
            "Requirement already satisfied: tqdm in /Users/danieledevinco/Library/Python/3.9/lib/python/site-packages (4.67.1)\n",
            "\u001b[33mWARNING: You are using pip version 21.2.4; however, version 25.1.1 is available.\n",
            "You should consider upgrading via the '/Library/Developer/CommandLineTools/usr/bin/python3 -m pip install --upgrade pip' command.\u001b[0m\n"
          ]
        }
      ],
      "source": [
        "!python3 -m pip install hypergraphx==1.7.3\n",
        "!python3 -m pip install tqdm"
      ]
    },
    {
      "cell_type": "markdown",
      "metadata": {
        "id": "GBIZHVNUw8C0"
      },
      "source": [
        "First, let's download the data and load a sample hypergraph"
      ]
    },
    {
      "cell_type": "code",
      "execution_count": 3,
      "metadata": {
        "colab": {
          "base_uri": "https://localhost:8080/"
        },
        "id": "0KHluqyJ9ctO",
        "outputId": "2121da91-7da1-4fb9-f73c-74eb9f6193d7"
      },
      "outputs": [
        {
          "name": "stdout",
          "output_type": "stream",
          "text": [
            "  % Total    % Received % Xferd  Average Speed   Time    Time     Time  Current\n",
            "                                 Dload  Upload   Total   Spent    Left  Speed\n",
            "  0     0    0     0    0     0      0      0 --:--:-- --:--:-- --:--:--     0x icwsm2025/\n",
            "x icwsm2025/.DS_Store\n",
            "x icwsm2025/minorities-labels.csv\n",
            "x icwsm2025/politics-edges.txt\n",
            "100  102k  100  102k    0     0   353k      0 --:--:-- --:--:-- --:--:--  352k\n",
            "\n",
            "x icwsm2025/guncontrol-edges.txt\n",
            "x icwsm2025/minorities-edges.txt\n",
            "x icwsm2025/sample.json\n",
            "x icwsm2025/guncontrol-labels.csv\n"
          ]
        }
      ],
      "source": [
        "# !wget -qO - https://raw.githubusercontent.com/andreafailla/andreafailla.github.io/main/static/uploads/data/icwsm2025.tar.gz | tar -xzv\n",
        "!curl -L https://raw.githubusercontent.com/andreafailla/andreafailla.github.io/main/static/uploads/data/icwsm2025.tar.gz | tar -xzv"
      ]
    },
    {
      "cell_type": "code",
      "execution_count": 4,
      "metadata": {
        "id": "hhpVsjOCVlj6"
      },
      "outputs": [],
      "source": [
        "import hypergraphx as hgx\n",
        "from hypergraphx.readwrite.load import load_hypergraph\n",
        "\n",
        "h = load_hypergraph('icwsm2025/sample.json', file_type='json')"
      ]
    },
    {
      "cell_type": "markdown",
      "metadata": {
        "id": "lbnv6mZdxX1s"
      },
      "source": [
        "We will randomly add a categorical and a numerical attribute to each node with the dedicated method"
      ]
    },
    {
      "cell_type": "code",
      "execution_count": 5,
      "metadata": {
        "id": "h9WTsJgRS7jx"
      },
      "outputs": [],
      "source": [
        "import numpy as np\n",
        "\n",
        "for n in h.get_nodes():\n",
        "\n",
        "    # draw leaning from distribution\n",
        "    leaning_distr = [0.25, 0.25, 0.5]\n",
        "    l = str(np.random.choice(['L', 'R', 'N'], p=leaning_distr))\n",
        "\n",
        "    # draw age from a normal distribution\n",
        "    mean = (18 + 30) / 2\n",
        "    std_dev = (30 - 18) / 6  # Rough estimation for std dev: range / 6 (empirical rule)\n",
        "    age = int(np.random.normal(mean, std_dev))\n",
        "\n",
        "    h.set_meta(n,\n",
        "        {\n",
        "        'leaning': l,\n",
        "        'age': age\n",
        "        }\n",
        "    )"
      ]
    },
    {
      "cell_type": "markdown",
      "metadata": {
        "id": "lY1DFg7YmUhg"
      },
      "source": [
        "To obtain metadata info for a node:"
      ]
    },
    {
      "cell_type": "code",
      "execution_count": 6,
      "metadata": {
        "colab": {
          "base_uri": "https://localhost:8080/"
        },
        "id": "4YLNYXt9mdoj",
        "outputId": "7a81822e-354b-4205-9d47-1943832e1e03"
      },
      "outputs": [
        {
          "data": {
            "text/plain": [
              "{'leaning': 'R', 'age': 24}"
            ]
          },
          "execution_count": 6,
          "metadata": {},
          "output_type": "execute_result"
        }
      ],
      "source": [
        "attrs_1 = h.get_meta(1)\n",
        "attrs_1"
      ]
    },
    {
      "cell_type": "markdown",
      "metadata": {
        "id": "n_6zeYJGmmL7"
      },
      "source": [
        "To get all node metedata:"
      ]
    },
    {
      "cell_type": "code",
      "execution_count": 7,
      "metadata": {
        "id": "HjLkFPSjml6S"
      },
      "outputs": [],
      "source": [
        "metadata = {n: h.get_meta(n) for n in h.get_nodes()}"
      ]
    },
    {
      "cell_type": "markdown",
      "metadata": {
        "id": "h5IfJjI9lUAA"
      },
      "source": [
        "Let's visualize the distribution of node attributes"
      ]
    },
    {
      "cell_type": "code",
      "execution_count": 8,
      "metadata": {
        "id": "_V0TaN9cYnBZ"
      },
      "outputs": [],
      "source": [
        "import matplotlib.pyplot as plt\n",
        "\n",
        "def plot_attributes_distribution(h, attr_name):\n",
        "    counts = dict()\n",
        "\n",
        "    for n in h.get_nodes():\n",
        "        a = h.get_meta(n)\n",
        "        attr = a.get(attr_name)\n",
        "        if attr not in counts:\n",
        "            counts[attr] = 0\n",
        "        counts[attr] += 1\n",
        "\n",
        "    categorical = isinstance(list(counts.keys())[0], str)\n",
        "\n",
        "    if categorical:\n",
        "        plt.barh(counts.keys(), counts.values())\n",
        "        plt.xlabel(\"Count\")\n",
        "    else:\n",
        "        plt.hist(counts.keys(), weights=counts.values(), bins=10)\n",
        "        plt.ylabel(\"Count\")\n",
        "    plt.title(f\"{attr_name} distribution\")\n",
        "    plt.show()"
      ]
    },
    {
      "cell_type": "code",
      "execution_count": 9,
      "metadata": {
        "colab": {
          "base_uri": "https://localhost:8080/",
          "height": 452
        },
        "id": "BsH_6T3B57Ti",
        "outputId": "aec65760-e8ef-4ce4-cf8f-75a9b1107cf3"
      },
      "outputs": [
        {
          "data": {
            "image/png": "[encoded data removed]",
            "text/plain": [
              "<Figure size 640x480 with 1 Axes>"
            ]
          },
          "metadata": {},
          "output_type": "display_data"
        }
      ],
      "source": [
        "plot_attributes_distribution(h, 'age')"
      ]
    },
    {
      "cell_type": "code",
      "execution_count": 10,
      "metadata": {
        "colab": {
          "base_uri": "https://localhost:8080/",
          "height": 472
        },
        "id": "uGdqaBTz58kN",
        "outputId": "7a4bcfff-e292-4f89-b11d-b4ce8742103a"
      },
      "outputs": [
        {
          "data": {
            "image/png": "[encoded data removed]",
            "text/plain": [
              "<Figure size 640x480 with 1 Axes>"
            ]
          },
          "metadata": {},
          "output_type": "display_data"
        }
      ],
      "source": [
        "plot_attributes_distribution(h, 'leaning')"
      ]
    },
    {
      "cell_type": "markdown",
      "metadata": {
        "id": "FnFBLUmNVw-J"
      },
      "source": [
        "When working with node-attributed hypernetwork structures, we can quantify how homogeneous the nodes are within a certain hyperedge. In the case of social hypernetworks, for instance, this can give an idea of the homophilic tendencies of the population.\n",
        "\n",
        "`Hypergraphx` does not directly provide utilities/measures to work with node-attributed hypernetworks, but we can write a simple function that computes the most frequent node attribute value within a set of nodes.\n"
      ]
    },
    {
      "cell_type": "code",
      "execution_count": 11,
      "metadata": {
        "id": "0148015a-b083-4bdd-8d11-9b4ac08324b6"
      },
      "outputs": [],
      "source": [
        "from collections import Counter\n",
        "\n",
        "def purity(h, edge, attr_name='attr'):\n",
        "    \"\"\"\n",
        "    Compute the purity of an edge.\n",
        "    Returns the most frequent attribute value and its relative frequency.\n",
        "    \"\"\"\n",
        "    edge_attrs = [h.get_meta(n).get(attr_name) for n in edge]\n",
        "    c = Counter(edge_attrs)\n",
        "    most_freq_att_val = c.most_common(1)[0][0]\n",
        "    purity = c.most_common(1)[0][1] / len(edge_attrs)\n",
        "    return most_freq_att_val, purity\n",
        "\n",
        "\n",
        "def plot_kde(distribution, xlabel, by_label=False):\n",
        "    purity_df = pd.DataFrame(distribution, columns=['Label', 'Val'])\n",
        "\n",
        "    plt.figure(figsize=(8, 6))\n",
        "    if by_label: # if aggregating by label, set hue colors according to labels\n",
        "        hue = 'Label'\n",
        "    else:\n",
        "        hue = None\n",
        "\n",
        "    # Plot univariate or bivariate distributions using kernel density estimation.\n",
        "    # A kernel density estimate (KDE) plot is a method for visualizing\n",
        "    # the distribution of observations in a dataset, analogous to a histogram.\n",
        "    # KDE represents the data using a continuous probability density curve\n",
        "    # in one or more dimensions.\n",
        "    sns.kdeplot(\n",
        "        data=purity_df,\n",
        "        x='Val',\n",
        "        hue=hue,\n",
        "        fill=True,\n",
        "        common_norm=True,\n",
        "        alpha=.3\n",
        "    )\n",
        "\n",
        "    plt.xlim(0,1)\n",
        "    plt.xlabel(xlabel)\n",
        "    plt.ylabel('Density')\n",
        "    plt.show()"
      ]
    },
    {
      "cell_type": "code",
      "execution_count": 12,
      "metadata": {
        "colab": {
          "base_uri": "https://localhost:8080/"
        },
        "id": "5CfndPRSX1wa",
        "outputId": "6795946b-b8c2-4633-e317-0ed9d32c6b05"
      },
      "outputs": [
        {
          "name": "stdout",
          "output_type": "stream",
          "text": [
            "edge: (315, 417, 486, 516, 631)\n",
            "leaning: ['N', 'R', 'N', 'N', 'L']\n",
            "purity: ('N', 0.6)\n"
          ]
        }
      ],
      "source": [
        "edge =  (315, 417, 486, 516, 631)\n",
        "print('edge:', edge)\n",
        "print('leaning:', [h.get_meta(n)['leaning'] for n in edge])\n",
        "print('purity:', purity(h, edge, attr_name='leaning'))"
      ]
    },
    {
      "cell_type": "markdown",
      "metadata": {
        "id": "iso7wPfFPLT1"
      },
      "source": [
        "Let's compute the purities for all hyperedges as follows:"
      ]
    },
    {
      "cell_type": "code",
      "execution_count": 13,
      "metadata": {
        "id": "ZmoHU4Ly4B3g"
      },
      "outputs": [],
      "source": [
        "purities = []\n",
        "for edge in h.get_edges():\n",
        "    res = purity(h, edge, attr_name='leaning')\n",
        "    purities.append(res)"
      ]
    },
    {
      "cell_type": "markdown",
      "metadata": {
        "id": "oh9KnNo0PQU1"
      },
      "source": [
        "Then, we can use the function we defined earlier to visualize the score distribution."
      ]
    },
    {
      "cell_type": "code",
      "execution_count": 14,
      "metadata": {
        "colab": {
          "base_uri": "https://localhost:8080/",
          "height": 542
        },
        "id": "FuW5STGB3uaa",
        "outputId": "dd06bf39-0310-4412-e230-964a790ab90e"
      },
      "outputs": [
        {
          "data": {
            "image/png": "[encoded data removed]",
            "text/plain": [
              "<Figure size 800x600 with 1 Axes>"
            ]
          },
          "metadata": {},
          "output_type": "display_data"
        }
      ],
      "source": [
        "import seaborn as sns\n",
        "import pandas as pd\n",
        "import matplotlib.pyplot as plt\n",
        "plot_kde(purities, 'Purity')"
      ]
    },
    {
      "cell_type": "code",
      "execution_count": 15,
      "metadata": {
        "colab": {
          "base_uri": "https://localhost:8080/",
          "height": 542
        },
        "id": "7NB21xgL3Pgs",
        "outputId": "a3335a27-cefc-4086-dd89-0c82b5cb8f4d"
      },
      "outputs": [
        {
          "data": {
            "image/png": "[encoded data removed]",
            "text/plain": [
              "<Figure size 800x600 with 1 Axes>"
            ]
          },
          "metadata": {},
          "output_type": "display_data"
        }
      ],
      "source": [
        "plot_kde(purities, 'Purity', by_label=True)"
      ]
    },
    {
      "cell_type": "markdown",
      "metadata": {
        "id": "O8BnBWg9P9b6"
      },
      "source": [
        "Especially in social hypergraphs, we might be interested in quantifying how much an individual is embedded in like-minded contexts.\n",
        "To do so, we can:\n",
        "- select a target node $u$\n",
        "- look at its incident hyperedges (contexts)\n",
        "- label each context with the predominant opinion\n",
        "- compute the relative frequency of $u$'s attribute over the context labels\n",
        "\n",
        "This measure was introduced in [1] as *Star Homogeneity*.\n",
        "\n",
        "> *Failla, A., Citraro, S., & Rossetti, G. (2023). Attributed Stream Hypergraphs: temporal modeling of node-attributed high-order interactions. Applied Network Science, 8(1), 31.*"
      ]
    },
    {
      "cell_type": "code",
      "execution_count": 16,
      "metadata": {
        "id": "_fP1nIozZx97"
      },
      "outputs": [],
      "source": [
        "def star_homogeneity(h, node, attr_name='attr'):\n",
        "    \"\"\"\n",
        "    Compute the star homogeneity of a node.\n",
        "    Given a node, its star homogeneity is defined as the fraction of hyperedges\n",
        "    that are dominated by the same attribtue value of the node.\n",
        "    \"\"\"\n",
        "    edges = h.get_incident_edges(node)\n",
        "    if not edges:\n",
        "        return None\n",
        "\n",
        "    natt = h.get_meta(node)[attr_name]\n",
        "    vals = []\n",
        "    for edge in edges:\n",
        "        val, _ = purity(h, edge, attr_name=attr_name)\n",
        "        vals.append(val)\n",
        "\n",
        "    # return most frequent attribute value and frequency\n",
        "    return natt, Counter(vals).most_common(1)[0][1] / len(edges)\n",
        "\n",
        "homs = []\n",
        "for n in h.get_nodes():\n",
        "    res = star_homogeneity(h, n, attr_name='leaning')\n",
        "    homs.append(res)"
      ]
    },
    {
      "cell_type": "code",
      "execution_count": 17,
      "metadata": {
        "colab": {
          "base_uri": "https://localhost:8080/",
          "height": 542
        },
        "id": "n4lHZfWRSnr9",
        "outputId": "427c578b-2dc6-4a87-a27e-e6c26f1bcb03"
      },
      "outputs": [
        {
          "data": {
            "image/png": "[encoded data removed]",
            "text/plain": [
              "<Figure size 800x600 with 1 Axes>"
            ]
          },
          "metadata": {},
          "output_type": "display_data"
        }
      ],
      "source": [
        "plot_kde(homs, 'Star Homogeneity')"
      ]
    },
    {
      "cell_type": "code",
      "execution_count": 18,
      "metadata": {
        "colab": {
          "base_uri": "https://localhost:8080/",
          "height": 542
        },
        "id": "k_5ISkZVVxu8",
        "outputId": "8c2a3010-7f40-4b36-c8d0-6684d0653b87"
      },
      "outputs": [
        {
          "data": {
            "image/png": "[encoded data removed]",
            "text/plain": [
              "<Figure size 800x600 with 1 Axes>"
            ]
          },
          "metadata": {},
          "output_type": "display_data"
        }
      ],
      "source": [
        "plot_kde(homs, 'Star Homogeneity', True)"
      ]
    },
    {
      "cell_type": "markdown",
      "metadata": {
        "id": "fUDWnnLbMl1v"
      },
      "source": [
        "### Exercises"
      ]
    },
    {
      "cell_type": "markdown",
      "metadata": {
        "id": "gy1yqwQIvEOX"
      },
      "source": [
        "**E1: Build a hypergraph from the Politics dataset using the provided function. Then, plot the distribution of nodes for each class (political leaning)**"
      ]
    },
    {
      "cell_type": "code",
      "execution_count": 19,
      "metadata": {
        "id": "74i96h_Su-Fj"
      },
      "outputs": [],
      "source": [
        "def load_reddit_data(dataset_name, attributes=False, by_timestamp=False):\n",
        "    if not by_timestamp:\n",
        "        # res is an hypergraph\n",
        "        res = hgx.Hypergraph()\n",
        "        with open(f\"icwsm2025/{dataset_name}-edges.txt\") as f:\n",
        "            for line in f:\n",
        "                edge = [int(x) for x in line.strip().split()[1:]]\n",
        "                res.add_edge(edge)\n",
        "        if attributes:\n",
        "            with open(f\"icwsm2025/{dataset_name}-labels.csv\") as f:\n",
        "                labels = {}\n",
        "                for line in f:\n",
        "                    n, t, l = line.strip().split(',')\n",
        "                    labels[int(n)] = l\n",
        "                for n, l in labels.items():\n",
        "                    if res.check_node(n):\n",
        "                        res.set_meta(n, {'leaning': l})\n",
        "    else:\n",
        "        # res is a list of hypergraphs\n",
        "        res = [hgx.Hypergraph(), hgx.Hypergraph(),\n",
        "            hgx.Hypergraph(), hgx.Hypergraph(),\n",
        "            hgx.Hypergraph()]\n",
        "        with open(f\"icwsm2025/{dataset_name}-edges.txt\") as f:\n",
        "            for line in f:\n",
        "                line = line.strip().split()\n",
        "                t = int(line[0])\n",
        "                edge = [int(x) for x in line[1:]]\n",
        "                res[t].add_edge(edge)\n",
        "        if attributes:\n",
        "            with open(f\"icwsm2025/{dataset_name}-labels.csv\") as f:\n",
        "                for line in f:\n",
        "                    n, t, l = line.strip().split(',')\n",
        "                    if res[int(t)].check_node(int(n)):\n",
        "                        res[int(t)].set_meta(int(n), {'leaning': l})\n",
        "    return res"
      ]
    },
    {
      "cell_type": "code",
      "execution_count": 20,
      "metadata": {
        "colab": {
          "base_uri": "https://localhost:8080/",
          "height": 489
        },
        "id": "BVXCAQDWu9v6",
        "outputId": "b6069b5e-1f5b-4a01-c4dc-5e5ca2cb0414"
      },
      "outputs": [
        {
          "name": "stdout",
          "output_type": "stream",
          "text": [
            "Counter({'antitrump': 1752, 'protrump': 850, 'neutral': 667})\n"
          ]
        },
        {
          "data": {
            "image/png": "[encoded data removed]",
            "text/plain": [
              "<Figure size 640x480 with 1 Axes>"
            ]
          },
          "metadata": {},
          "output_type": "display_data"
        }
      ],
      "source": [
        "# E1 here\n",
        "# 1. load the data (edges + node labels)\n",
        "h_pol = load_reddit_data('politics', attributes=True)\n",
        "\n",
        "# 2. how many nodes belong to each political leaning?\n",
        "from collections import Counter\n",
        "leaning_counts = Counter(h_pol.get_meta(n)['leaning'] for n in h_pol.get_nodes())\n",
        "print(leaning_counts)        # → {'antitrump': 1752, 'protrump': 850, 'neutral': 667}\n",
        "\n",
        "# 3. visualise the distribution\n",
        "plot_attributes_distribution(h_pol, 'leaning')"
      ]
    },
    {
      "cell_type": "markdown",
      "metadata": {
        "id": "zyFnwXhKMyi4"
      },
      "source": [
        "**E2. Compute star homogeneity values for all nodes in the hypergraph. Which class has an higher average star homogeneity?**"
      ]
    },
    {
      "cell_type": "code",
      "execution_count": 22,
      "metadata": {
        "colab": {
          "base_uri": "https://localhost:8080/"
        },
        "id": "QQ3Zsymou9an",
        "outputId": "08d31c6c-e8e1-4cd0-fd28-bdc3e75832eb"
      },
      "outputs": [
        {
          "name": "stdout",
          "output_type": "stream",
          "text": [
            "{'antitrump': 0.901, 'neutral': 0.821, 'protrump': 0.818}\n"
          ]
        }
      ],
      "source": [
        "# E2 here\n",
        "# compute star-homogeneity for every node\n",
        "from collections import defaultdict\n",
        "\n",
        "homs = []\n",
        "for n in h_pol.get_nodes():\n",
        "    res = star_homogeneity(h_pol, n, attr_name='leaning')\n",
        "    homs.append(res)\n",
        "\n",
        "# collect star-homogeneity values by political leaning\n",
        "class_homs = defaultdict(list)\n",
        "for entry in homs:          # each entry is (leaning, hom) or None for isolated nodes\n",
        "    if entry is None:\n",
        "        continue\n",
        "    leaning, hom_val = entry\n",
        "    class_homs[leaning].append(hom_val)\n",
        "\n",
        "# compute the rounded mean for each class\n",
        "mean_hom = {\n",
        "    leaning: round(sum(vals) / len(vals), 3)\n",
        "    for leaning, vals in class_homs.items()\n",
        "}\n",
        "\n",
        "print(mean_hom)         # e.g. {'antitrump': 0.901, 'neutral': 0.821, 'protrump': 0.818}"
      ]
    },
    {
      "cell_type": "markdown",
      "metadata": {
        "id": "wvBSuHizRpgS"
      },
      "source": [
        "## High-order contagion"
      ]
    },
    {
      "cell_type": "markdown",
      "metadata": {
        "id": "pNAcYC1MGhhg"
      },
      "source": [
        "**High-order contagion** refers to the spread of information, behaviors, opinions, or diseases not just through one-to-one contact, but through **multi-way interactions**. In this scenario, groups play a crucial role in the spreading dynamics as the \"contagion\" can unroll with a different probability for each group size [2], and groups themselves can intensify phenomena like peer pressure [3].\n",
        "\n",
        "> [2] Iacopini, I., Petri, G., Barrat, A., & Latora, V. (2019). *Simplicial models of social contagion.* Nature communications, 10(1), 2485.\n",
        ">\n",
        "> [3] R. Sahasrabuddhe, L. Neuhäuser, and R. Lambiotte. *Modelling non-linear consensus dynamics on hypergraphs*. In: Journal of Physics:\n",
        "Complexity 2.2 (2021), p. 025006."
      ]
    },
    {
      "cell_type": "markdown",
      "metadata": {
        "id": "GJ4T1lpfTIWd"
      },
      "source": [
        "In this tutorial, we will explore how opinion diffusion dynamics change when considering *only pairwise interactions* versus when *group interactions* are also taken into account.\n",
        "\n",
        "We will use the **multi-body consensus model (MCM)** from Sahasrabuddhe et al. [3] for the following reasons:\n",
        "1. it combines homophily and group pressure/conformity social theories, extending them to hypergraphs;\n",
        "2. it can be applied to both graphs and hypergraphs; and\n",
        "3. by adjusting user involvement parameters, we can simulate various outcomes, including polarization, consensus toward the mean or a combination of both -- allowing us to explore diverse scenarios.\n",
        "\n",
        "MCM models:\n",
        "- The concept of **homophily**, which captures the tendency of like-minded individuals to interact [4];\n",
        "- The concept of **conformity**, which is used to describe the tendency of an individual to align their beliefs to those of their peers and is usually affected by the reinforcing nature of shared opinions (peer pressure) [5].\n",
        "\n",
        "> [4] M. McPherson, L. Smith-Lovin, and J. M. Cook. *Birds of a Feather: Homophily in Social Networks*. In: Annual Review of Sociology\n",
        "27.Volume 27, 2001 (2001), pp. 415-444.\n",
        ">\n",
        "> [5] M. Sherif and C. I. Hovland. *Social judgment: Assimilation and\n",
        "contrast effects in communication and attitude change*. Yale University Press, 1961."
      ]
    },
    {
      "cell_type": "markdown",
      "metadata": {
        "id": "gpJ73CxUC1vT"
      },
      "source": [
        "### Implementation of the multi-body consensus model (MCM)"
      ]
    },
    {
      "cell_type": "code",
      "execution_count": null,
      "metadata": {
        "id": "lzp7RiJuT0fd"
      },
      "outputs": [],
      "source": [
        "import copy\n",
        "import math\n",
        "\n",
        "import matplotlib.pyplot as plt\n",
        "import numpy as np\n",
        "\n",
        "import tqdm"
      ]
    },
    {
      "cell_type": "code",
      "execution_count": null,
      "metadata": {
        "id": "AHPqmxSvf8BG"
      },
      "outputs": [],
      "source": [
        "#\n",
        "# Homophily function\n",
        "# potentially, each node can have different parameters\n",
        "# - high involvment Φₐ=0.10, Φᵣ=0.15\n",
        "# - medium involvment Φₐ=0.15, Φᵣ=0.30\n",
        "# - low involvment Φₐ=0.40, Φᵣ=0.80\n",
        "#\n",
        "def homophily(avg_dis, my_lambda=-1, theta_acc=0.15, theta_rej=0.30):\n",
        "    # avg_dis will be very low if the opinion of node x\n",
        "    # is close to the average opinion of its neighbors\n",
        "    # in the same hyperedge\n",
        "    if avg_dis <= theta_acc:\n",
        "        return math.exp(my_lambda * avg_dis)\n",
        "    # avg_dis will be very high if the opinion of node x\n",
        "    # is far away to the average opinion of its neighbors\n",
        "    # in the same hyperedge\n",
        "    elif avg_dis >= theta_rej:\n",
        "        return - math.exp(my_lambda * avg_dis)\n",
        "    else:\n",
        "        return 0"
      ]
    },
    {
      "cell_type": "code",
      "execution_count": null,
      "metadata": {
        "id": "KJqCKSkeUEQp"
      },
      "outputs": [],
      "source": [
        "#\n",
        "# Conformity function\n",
        "# potentially, each node can have different parameters\n",
        "#\n",
        "def conformity(avg_dis, delta=-5):\n",
        "    return math.exp(delta * avg_dis)"
      ]
    },
    {
      "cell_type": "code",
      "execution_count": null,
      "metadata": {
        "id": "N2RJF9xKURWC"
      },
      "outputs": [],
      "source": [
        "def simulate(h, initial_opinions, max_iter=3.0, step=0.01, theta_acc=0.15, theta_rej=0.30, verbose=True):\n",
        "  \"\"\"\n",
        "    Reproduce the opinion change process from the paper\n",
        "    \"Modelling non-linear consensus dynamics on hypergraphs\"\n",
        "    https://iopscience.iop.org/article/10.1088/2632-072X/abcea3/meta\n",
        "  \"\"\"\n",
        "\n",
        "  # initialize the memory of the simulation\n",
        "  # it stores the initial opinion of each node\n",
        "  # Dict[int, List[float]]\n",
        "  opinion_history = {}\n",
        "\n",
        "  for v in range(h.num_nodes()):\n",
        "    opinion_history[v] = []\n",
        "\n",
        "  # Save the initial opinions\n",
        "  curr_opinions = [initial_opinions[v].item() for v in range(h.num_nodes())]\n",
        "  next_opinions = [0.0] * h.num_nodes()\n",
        "\n",
        "  # Storing the timesteps information\n",
        "  timesteps = []\n",
        "\n",
        "  # Simulate the diffusion process\n",
        "  #while t < max_iter:\n",
        "  for t in tqdm.tqdm(np.arange(0, max_iter, step)):\n",
        "    verbose and print(f\"Iteration {t}/{max_iter}\")\n",
        "\n",
        "    # Iterate over all nodes\n",
        "    for v in h.get_nodes():\n",
        "\n",
        "      # Initialize the gain of the node v\n",
        "      gains = {he_id: 0.0 for he_id in h.get_edges()}\n",
        "\n",
        "      # Iterate over all neighbors considering\n",
        "      # a single hyperedge per time\n",
        "      for he in h.get_incident_edges(v):\n",
        "        avg_op = 0.0\n",
        "        avg_neigh_op = 0.0\n",
        "\n",
        "        neighbors = [n for n in he] #if n != v\n",
        "\n",
        "        # If the node v is the only node in the hyperedge\n",
        "        # then the gain is 0\n",
        "        if len(neighbors) == 1:\n",
        "          gains[he] = 0.0\n",
        "          continue\n",
        "\n",
        "        # Iterate over all neighbors of the node v in the hyperedge he\n",
        "        for u in neighbors:\n",
        "          # Sum up the nodes' opinions\n",
        "          avg_op += curr_opinions[u]\n",
        "\n",
        "          # We also store the avg opinion of the neighbors\n",
        "          # of the node v excluding v itself\n",
        "          if u != v:\n",
        "            avg_neigh_op += curr_opinions[u]\n",
        "\n",
        "        # Compute the average opinion of the neighbors in he\n",
        "        avg_op /= len(neighbors)\n",
        "\n",
        "        # And how much the opinion of the node v\n",
        "        # differs from the average opinion of the he\n",
        "        avg_dis_v = avg_op - curr_opinions[v]\n",
        "\n",
        "        # Evaluate the homophily value\n",
        "        homophily_v = homophily(abs(avg_dis_v), theta_acc=theta_acc, theta_rej=theta_rej)\n",
        "\n",
        "        # Evaluate the conformity value\n",
        "        conformity_v = 0.0\n",
        "        # Compute the average opinion of the he, excluding v\n",
        "        avg_neigh_op /= (len(neighbors) - 1)\n",
        "\n",
        "        # Here we evaluate how much a node u differs from the average opinion\n",
        "        # of the hyperedge, without considering the opinion of the node v\n",
        "        for u in neighbors:\n",
        "          avg_dis = avg_neigh_op - curr_opinions[u]\n",
        "          conformity_u = conformity(abs(avg_dis)) * (curr_opinions[u] - curr_opinions[v])\n",
        "          conformity_v += conformity_u\n",
        "\n",
        "        # Compute the gain from each hyperedge\n",
        "        gain = conformity_v * homophily_v\n",
        "\n",
        "        # Store the value\n",
        "        gains[he] = gain\n",
        "\n",
        "      # Aggregate the gains from all hyperedges\n",
        "      gain = sum(list(gains.values()))\n",
        "\n",
        "      # update opinion\n",
        "      next_op_v = curr_opinions[v] + step * gain\n",
        "\n",
        "      if next_op_v > 1.0:\n",
        "        next_op_v = 1.0\n",
        "      elif next_op_v < 0.0:\n",
        "        next_op_v = 0.0\n",
        "\n",
        "      next_opinions[v] = next_op_v\n",
        "\n",
        "      # Store the current opinion vector\n",
        "      opinion_history[v].append(next_op_v)\n",
        "\n",
        "    # update the time\n",
        "    timesteps.append(t)\n",
        "\n",
        "    # verify convergence\n",
        "    opinion_diff = np.array(next_opinions) - np.array(curr_opinions)\n",
        "    if abs(np.std(opinion_diff)) < 0.0005:\n",
        "      print(f\"convergence reached at {t}/{max_iter} iteration\")\n",
        "      break\n",
        "\n",
        "    # update the current opinion vector\n",
        "    curr_opinions = copy.deepcopy(next_opinions)\n",
        "\n",
        "  return opinion_history, timesteps"
      ]
    },
    {
      "cell_type": "markdown",
      "metadata": {
        "id": "j1ph2mpnDETM"
      },
      "source": [
        "### Utils"
      ]
    },
    {
      "cell_type": "code",
      "execution_count": null,
      "metadata": {
        "id": "9djBJU6xDICm"
      },
      "outputs": [],
      "source": [
        "def get_fraction_extreme_opinions(opinions, thr_pos, thr_neg):\n",
        "  \"\"\"\n",
        "    Returns the fraction of nodes in the simulation who have extreme opinions,\n",
        "    i.e., opinion >= thr_pos or opinion <= thr_neg\n",
        "  \"\"\"\n",
        "  n_nodes = len(opinions)\n",
        "  timesteps = list(opinions.values())[0]\n",
        "\n",
        "  fraction_positives = [0.0] * len(timesteps)\n",
        "  fraction_negatives = [0.0] * len(timesteps)\n",
        "\n",
        "  for t in range(len(timesteps)):\n",
        "    n_pos = 0\n",
        "    n_neg = 0\n",
        "\n",
        "    for v_ops in opinions.values():\n",
        "      v_op = v_ops[t]\n",
        "\n",
        "      if v_op >= thr_pos:\n",
        "        n_pos += 1\n",
        "      elif v_op <= thr_neg:\n",
        "        n_neg += 1\n",
        "\n",
        "    fraction_positives[t] = n_pos / n_nodes\n",
        "    fraction_negatives[t] = n_neg / n_nodes\n",
        "\n",
        "  return fraction_positives, fraction_negatives"
      ]
    },
    {
      "cell_type": "code",
      "execution_count": null,
      "metadata": {
        "id": "C_GwctwpD3HH"
      },
      "outputs": [],
      "source": [
        "from itertools import combinations\n",
        "\n",
        "def my_clique(hg):\n",
        "  \"\"\"\n",
        "    Converts a hypergraph into its clique representation\n",
        "    by reducing each hyperedge of size greater than two\n",
        "    into all possible pairwise edges.\n",
        "  \"\"\"\n",
        "  clique = hgx.Hypergraph()\n",
        "\n",
        "  clique.add_nodes(hg.get_nodes())\n",
        "\n",
        "  for he in hg.get_edges():\n",
        "    if len(he) <= 2:\n",
        "      clique.add_edge(he)\n",
        "    else:\n",
        "      edges = list(combinations(he, 2))\n",
        "      clique.add_edges(edges)\n",
        "\n",
        "  return clique"
      ]
    },
    {
      "cell_type": "markdown",
      "metadata": {
        "id": "Dq9FuqXEDAAg"
      },
      "source": [
        "### Simulation"
      ]
    },
    {
      "cell_type": "markdown",
      "metadata": {
        "id": "LjT6EQb3Yz0g"
      },
      "source": [
        "Let's consider our example hypergraph `h`."
      ]
    },
    {
      "cell_type": "code",
      "execution_count": null,
      "metadata": {
        "colab": {
          "base_uri": "https://localhost:8080/"
        },
        "id": "sxwV4EiiYo_V",
        "outputId": "4d2cbefd-7ca1-4dad-f88f-0c72d9e15993"
      },
      "outputs": [],
      "source": [
        "print(h)"
      ]
    },
    {
      "cell_type": "markdown",
      "metadata": {
        "id": "NocfusHJZA4v"
      },
      "source": [
        "Now we generate its **clique representation**.\n",
        "\n",
        "**Highlight**: The **clique graph** of a hypergraph H is the graph whose vertices are the vertices of H and where two distinct vertices form an edge if and only if they are in the same hyperedge of H.\n",
        "\n",
        "![hg2clique.png](data:image/png;base64,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)\n"
      ]
    },
    {
      "cell_type": "code",
      "execution_count": null,
      "metadata": {
        "id": "yKpSO6fJbRH4"
      },
      "outputs": [],
      "source": [
        "clique = my_clique(h)"
      ]
    },
    {
      "cell_type": "code",
      "execution_count": null,
      "metadata": {
        "colab": {
          "base_uri": "https://localhost:8080/"
        },
        "id": "WtT2CzpMbWRb",
        "outputId": "f527a656-4150-4309-ba1b-774b0dfbb10a"
      },
      "outputs": [],
      "source": [
        "print(clique)"
      ]
    },
    {
      "cell_type": "markdown",
      "metadata": {
        "id": "PSWOF3qgY6zE"
      },
      "source": [
        "We initialize the opinion of each node by assigning a random number between [0, 1]..."
      ]
    },
    {
      "cell_type": "code",
      "execution_count": null,
      "metadata": {
        "id": "Tl52UBDzYsf3"
      },
      "outputs": [],
      "source": [
        "# assign a random opinion between [0, 1]\n",
        "initial_opinions = np.random.random(h.num_nodes())"
      ]
    },
    {
      "cell_type": "markdown",
      "metadata": {
        "id": "bKEZcl1fb3db"
      },
      "source": [
        "... and run the simulation."
      ]
    },
    {
      "cell_type": "code",
      "execution_count": null,
      "metadata": {
        "colab": {
          "base_uri": "https://localhost:8080/"
        },
        "collapsed": true,
        "id": "qjwpQNXSXB7N",
        "outputId": "d56f007a-826e-4fc7-9b13-354891f1e9ee"
      },
      "outputs": [],
      "source": [
        "\n",
        "# simulation on the hypergraph\n",
        "opinion_history, timesteps = simulate(\n",
        "    h,\n",
        "    initial_opinions,\n",
        "    max_iter=3.0,\n",
        "    theta_acc=0.15,\n",
        "    theta_rej=0.30,\n",
        "    verbose=False\n",
        "  )"
      ]
    },
    {
      "cell_type": "code",
      "execution_count": null,
      "metadata": {
        "colab": {
          "base_uri": "https://localhost:8080/"
        },
        "collapsed": true,
        "id": "RDdn9TDdbygF",
        "outputId": "e95ecf56-31ef-4471-c6ae-f136704fbe92"
      },
      "outputs": [],
      "source": [
        "# simulation on the clique graph\n",
        "opinion_history_clique, timesteps_clique = simulate(\n",
        "    clique,\n",
        "    initial_opinions,\n",
        "    max_iter=3.0,\n",
        "    theta_acc=0.15,\n",
        "    theta_rej=0.30,\n",
        "    verbose=False\n",
        "  )"
      ]
    },
    {
      "cell_type": "markdown",
      "metadata": {
        "id": "0jgg3iM5chTA"
      },
      "source": [
        "Now we plot the opinion trend of each node over time."
      ]
    },
    {
      "cell_type": "code",
      "execution_count": null,
      "metadata": {
        "colab": {
          "base_uri": "https://localhost:8080/",
          "height": 718
        },
        "id": "z8lVPFumjsbp",
        "outputId": "7ba52e20-3f31-4008-bb08-e13a904879c2"
      },
      "outputs": [],
      "source": [
        "# plot the opinion trend\n",
        "fig, (ax_h, ax_c) = plt.subplots(2, figsize=(8, 8))\n",
        "\n",
        "for v in range(h.num_nodes()):\n",
        "  ax_h.plot(range(len(timesteps)), opinion_history[v], color='black', linewidth=.3)\n",
        "\n",
        "for v in range(h.num_nodes()):\n",
        "  ax_c.plot(range(len(timesteps_clique)), opinion_history_clique[v], color='black', linewidth=.3)\n",
        "\n",
        "ax_h.set(title='Hypergraph', ylabel='Opinion')\n",
        "ax_c.set(title='Clique', xlabel='Time', ylabel='Opinion')\n",
        "\n",
        "plt.show()"
      ]
    },
    {
      "cell_type": "markdown",
      "metadata": {
        "id": "8vMW87_7d6-x"
      },
      "source": [
        "Let's evaluate how the fraction of extreme opinions differs in the two scenarios."
      ]
    },
    {
      "cell_type": "code",
      "execution_count": null,
      "metadata": {
        "id": "lSrYOr0B8EPS"
      },
      "outputs": [],
      "source": [
        "thr_pos = 0.7\n",
        "thr_neg = 0.3\n",
        "\n",
        "# hypergraph\n",
        "fraction_positives, fraction_negatives = get_fraction_extreme_opinions(opinion_history, thr_pos, thr_neg)\n",
        "#clique\n",
        "fraction_positives_clique, fraction_negatives_clique = get_fraction_extreme_opinions(opinion_history_clique, thr_pos, thr_neg)"
      ]
    },
    {
      "cell_type": "code",
      "execution_count": null,
      "metadata": {
        "colab": {
          "base_uri": "https://localhost:8080/",
          "height": 607
        },
        "id": "YaYKlCKq-86f",
        "outputId": "8a1551f6-a67b-4c31-a954-4007469fdcd7"
      },
      "outputs": [],
      "source": [
        "# plot the fraction of extreme opinions\n",
        "fig, (ax_h, ax_c) = plt.subplots(2, figsize=(8, 6))\n",
        "\n",
        "ax_h.plot(range(len(timesteps)), fraction_positives)\n",
        "ax_h.plot(range(len(timesteps)), fraction_negatives, '--')\n",
        "ax_h.legend(\n",
        "    ['Extreme positive', 'Extreme negative'],\n",
        "    bbox_to_anchor=(1., 1.0)\n",
        ")\n",
        "\n",
        "ax_c.plot(range(len(timesteps_clique)), fraction_positives_clique)\n",
        "ax_c.plot(range(len(timesteps_clique)), fraction_negatives_clique, '--')\n",
        "\n",
        "ax_h.set(title='Hypergraph', ylabel='Fraction of nodes')\n",
        "ax_c.set(title='Clique', xlabel='Time', ylabel='Fraction of nodes')\n",
        "\n",
        "plt.tight_layout()\n",
        "plt.show()"
      ]
    },
    {
      "cell_type": "markdown",
      "metadata": {
        "id": "EnB_VaglkXHE"
      },
      "source": [
        "### Exercises"
      ]
    },
    {
      "cell_type": "markdown",
      "metadata": {
        "id": "ay5tDePykhhJ"
      },
      "source": [
        "**E1: Build a hypergraph from the Politics dataset using the provided function. Simulate the MCM model, and visualize the opinion trend and the fraction of extreme opinions.**\n",
        "\n",
        "Initialize the opinion vector based on the political leaning of the users, assigning a random value between:\n",
        "- 0.7 and 1 if the user is *'antitrump'*;\n",
        "- 0.0 and 0.3 if the user is *'protrump'*;\n",
        "- 0.35 and 0.65 if the opinion is *'neutral'*."
      ]
    },
    {
      "cell_type": "code",
      "execution_count": null,
      "metadata": {
        "id": "jxB8B-JQe7mz"
      },
      "outputs": [],
      "source": [
        "def load_reddit_data(dataset_name, attributes=False, by_timestamp=False):\n",
        "  if not by_timestamp:\n",
        "\n",
        "    user2id = {}\n",
        "    nid = 0\n",
        "\n",
        "    # res is an hypergraph\n",
        "    res = hgx.Hypergraph()\n",
        "\n",
        "    with open(f\"icwsm2025/{dataset_name}-edges.txt\") as f:\n",
        "      for line in f:\n",
        "        edge = [int(x) for x in line.strip().split()[1:]]\n",
        "\n",
        "        for n in edge:\n",
        "          if n not in user2id:\n",
        "            user2id[n] = nid\n",
        "            nid += 1\n",
        "\n",
        "        edge_to_add = [user2id[n] for n in edge]\n",
        "        res.add_edge(edge_to_add)\n",
        "    if attributes:\n",
        "      with open(f\"icwsm2025/{dataset_name}-labels.csv\") as f:\n",
        "        labels = {}\n",
        "        for line in f:\n",
        "          n, t, l = line.strip().split(',')\n",
        "          if int(n) not in user2id:\n",
        "            continue\n",
        "          labels[user2id[int(n)]] = l\n",
        "        for n, l in labels.items():\n",
        "          if res.check_node(n):\n",
        "            res.set_meta(n, {'leaning': l})\n",
        "  else:\n",
        "      # res is a list of hypergraphs\n",
        "      res = [hgx.Hypergraph(), hgx.Hypergraph(),\n",
        "           hgx.Hypergraph(), hgx.Hypergraph(),\n",
        "           hgx.Hypergraph()]\n",
        "      with open(f\"icwsm2025/{dataset_name}-edges.txt\") as f:\n",
        "        for line in f:\n",
        "          line = line.strip().split()\n",
        "          t = int(line[0])\n",
        "          edge = [int(x) for x in line[1:]]\n",
        "          res[t].add_edge(edge)\n",
        "      if attributes:\n",
        "        with open(f\"icwsm2025/{dataset_name}-labels.csv\") as f:\n",
        "          for line in f:\n",
        "            n, t, l = line.strip().split(',')\n",
        "            if res[int(t)].check_node(int(n)):\n",
        "              res[int(t)].set_meta(int(n), {'leaning': l})\n",
        "  return res"
      ]
    },
    {
      "cell_type": "code",
      "execution_count": null,
      "metadata": {
        "colab": {
          "base_uri": "https://localhost:8080/"
        },
        "id": "KMyj0hZvk8Mx",
        "outputId": "aac74604-1bbd-4e27-ed6f-71b08009e2c2"
      },
      "outputs": [],
      "source": [
        "# load the hypergraph and the metadata associated with the nodes\n",
        "h_politics = load_reddit_data('politics', attributes=True)\n",
        "print(h_politics)"
      ]
    },
    {
      "cell_type": "code",
      "execution_count": null,
      "metadata": {
        "id": "6xk1lbKgnI0g"
      },
      "outputs": [],
      "source": [
        "metadata = {n: h_politics.get_meta(n) for n in h_politics.get_nodes()}"
      ]
    },
    {
      "cell_type": "code",
      "execution_count": null,
      "metadata": {
        "colab": {
          "base_uri": "https://localhost:8080/"
        },
        "id": "OywVAQgxnfs1",
        "outputId": "9c339b80-e124-4893-db85-cc6f76a80328"
      },
      "outputs": [],
      "source": [
        "attributes = set([x['leaning'] for x in metadata.values()])\n",
        "print(attributes)"
      ]
    },
    {
      "cell_type": "code",
      "execution_count": null,
      "metadata": {
        "id": "SWVtAVmTlEJs"
      },
      "outputs": [],
      "source": [
        "# initialize the opinion vector\n",
        "# based on the political leaning\n",
        "init_opinions = []\n",
        "\n",
        "for n in h_politics.get_nodes():\n",
        "  # assign a random number between 0.7 and 1\n",
        "  if metadata[n]['leaning'] == 'antitrump':\n",
        "    init_opinions.append(np.random.uniform(low=0.7, high=1))\n",
        "  elif metadata[n]['leaning'] == 'neutral':\n",
        "    init_opinions.append(np.random.uniform(low=0.35, high=.65))\n",
        "  else: # protrump\n",
        "    init_opinions.append(np.random.uniform(low=0, high=0.3))\n",
        "\n",
        "init_opinions = np.array(init_opinions)"
      ]
    },
    {
      "cell_type": "code",
      "execution_count": null,
      "metadata": {
        "id": "rNE-badwYHlw"
      },
      "outputs": [],
      "source": [
        "# init_opinions = np.random.random(h_politics.num_nodes())"
      ]
    },
    {
      "cell_type": "code",
      "execution_count": null,
      "metadata": {
        "colab": {
          "base_uri": "https://localhost:8080/"
        },
        "collapsed": true,
        "id": "MXwhjjdWo6O9",
        "outputId": "82c80aee-0a55-4660-8297-85255e13a06f"
      },
      "outputs": [],
      "source": [
        "# simulation\n",
        "opinions, timesteps = simulate(\n",
        "    h_politics,\n",
        "    init_opinions,\n",
        "    max_iter=3.00,\n",
        "    theta_acc=0.15,\n",
        "    theta_rej=0.30,\n",
        "    verbose=False\n",
        "  )"
      ]
    },
    {
      "cell_type": "code",
      "execution_count": null,
      "metadata": {
        "colab": {
          "base_uri": "https://localhost:8080/",
          "height": 696
        },
        "id": "iJd-ZtrUsglm",
        "outputId": "6c447647-7cd0-4b3b-9dfc-deaf2b7aed7f"
      },
      "outputs": [],
      "source": [
        "# plot the opinion trend\n",
        "fig, ax = plt.subplots(figsize=(8, 8))\n",
        "\n",
        "for v in range(h_politics.num_nodes()):\n",
        "  ax.plot(range(len(timesteps)), opinions[v], color='black', linewidth=.3)\n",
        "\n",
        "ax.set(xlabel='Time', ylabel='Opinion')\n",
        "\n",
        "plt.show()"
      ]
    },
    {
      "cell_type": "code",
      "execution_count": null,
      "metadata": {
        "id": "RH897AUYyh-s"
      },
      "outputs": [],
      "source": [
        "thr_pos = 0.7\n",
        "thr_neg = 0.3\n",
        "\n",
        "# hypergraph\n",
        "fraction_n_positives, fraction_n_negatives = get_fraction_extreme_opinions(opinions, thr_pos, thr_neg)"
      ]
    },
    {
      "cell_type": "code",
      "execution_count": null,
      "metadata": {
        "colab": {
          "base_uri": "https://localhost:8080/",
          "height": 407
        },
        "id": "Nf_4BIdNytBm",
        "outputId": "206316a8-32c8-4ae8-b8b8-f4625edc194e"
      },
      "outputs": [],
      "source": [
        "# plot the fraction of extreme opinions\n",
        "fig, ax = plt.subplots(figsize=(8, 4))\n",
        "\n",
        "ax.plot(range(len(timesteps)), fraction_n_positives)\n",
        "ax.plot(range(len(timesteps)), fraction_n_negatives, '--')\n",
        "ax.legend(\n",
        "    ['Extreme positive', 'Extreme negative'],\n",
        "    bbox_to_anchor=(1., 1.0)\n",
        ")\n",
        "\n",
        "ax.set(xlabel='Time', ylabel='Fraction of nodes')\n",
        "\n",
        "plt.tight_layout()\n",
        "plt.show()"
      ]
    },
    {
      "cell_type": "markdown",
      "metadata": {
        "id": "W4t0sekT0Slg"
      },
      "source": [
        "**E2: Simulate the MCM model using different parameters. How do the opinion trend and the fraction of extreme opinions vary?**\n"
      ]
    },
    {
      "cell_type": "code",
      "execution_count": null,
      "metadata": {
        "id": "YN_0XRFF0x3_"
      },
      "outputs": [],
      "source": [
        "# - high involvment Φₐ=0.10, Φᵣ=0.15\n",
        "# - medium involvment Φₐ=0.15, Φᵣ=0.30\n",
        "# - low involvment Φₐ=0.40, Φᵣ=0.80"
      ]
    },
    {
      "cell_type": "code",
      "execution_count": null,
      "metadata": {
        "colab": {
          "base_uri": "https://localhost:8080/"
        },
        "collapsed": true,
        "id": "hOlW_1Oly-jy",
        "outputId": "db37e88e-b6e4-48f2-b949-af18dc93a433"
      },
      "outputs": [],
      "source": [
        "# simulation\n",
        "opinions_high, timesteps_high = simulate(\n",
        "    h_politics,\n",
        "    init_opinions,\n",
        "    max_iter=3.0,\n",
        "    theta_acc=0.10,\n",
        "    theta_rej=0.15,\n",
        "    verbose=False\n",
        "  )"
      ]
    },
    {
      "cell_type": "code",
      "execution_count": null,
      "metadata": {
        "colab": {
          "base_uri": "https://localhost:8080/"
        },
        "collapsed": true,
        "id": "Eqp3KO8x05Us",
        "outputId": "d43b571a-cb29-4041-b31c-825204f4b035"
      },
      "outputs": [],
      "source": [
        "# simulation\n",
        "opinions_low, timesteps_low = simulate(\n",
        "    h_politics,\n",
        "    init_opinions,\n",
        "    max_iter=3.0,\n",
        "    theta_acc=0.40,\n",
        "    theta_rej=0.80,\n",
        "    verbose=False\n",
        "  )"
      ]
    },
    {
      "cell_type": "code",
      "execution_count": null,
      "metadata": {
        "colab": {
          "base_uri": "https://localhost:8080/",
          "height": 807
        },
        "id": "HzZlMo401D9-",
        "outputId": "bbcebb8a-28df-434f-81f7-db4cf6116224"
      },
      "outputs": [],
      "source": [
        "# plot the opinion trend\n",
        "fig, (ax_h, ax_l) = plt.subplots(2, figsize=(8, 8))\n",
        "\n",
        "for v in range(h_politics.num_nodes()):\n",
        "  ax_h.plot(range(len(timesteps_high)), opinions_high[v], color='black', linewidth=.3)\n",
        "  ax_l.plot(range(len(timesteps_low)), opinions_low[v], color='black', linewidth=.3)\n",
        "\n",
        "ax_h.set(title='High engagement scenario', ylabel='Opinions')\n",
        "ax_l.set(title='Low engagement scenario 2', xlabel='Time', ylabel='Opinions')\n",
        "\n",
        "plt.tight_layout()\n",
        "plt.show()"
      ]
    },
    {
      "cell_type": "code",
      "execution_count": null,
      "metadata": {
        "id": "bHFBZ3GZ1sjh"
      },
      "outputs": [],
      "source": [
        "thr_pos = 0.7\n",
        "thr_neg = 0.3\n",
        "\n",
        "# hypergraph\n",
        "fraction_n_positives_high, fraction_n_negatives_high = get_fraction_extreme_opinions(opinions_high, thr_pos, thr_neg)\n",
        "fraction_n_positives_low, fraction_n_negatives_low = get_fraction_extreme_opinions(opinions_low, thr_pos, thr_neg)"
      ]
    },
    {
      "cell_type": "code",
      "execution_count": null,
      "metadata": {
        "colab": {
          "base_uri": "https://localhost:8080/",
          "height": 607
        },
        "id": "2EP6jNtu10DO",
        "outputId": "76a8f837-e54e-46e1-ced1-a5106459603a"
      },
      "outputs": [],
      "source": [
        "# plot the fraction of extreme opinions\n",
        "fig, (ax_h, ax_l) = plt.subplots(2, figsize=(8, 6))\n",
        "\n",
        "ax_h.plot(range(len(timesteps_high)), fraction_n_positives_high)\n",
        "ax_h.plot(range(len(timesteps_high)), fraction_n_negatives_high, '--')\n",
        "ax_h.legend(\n",
        "    ['Extreme positive', 'Extreme negative'],\n",
        "    bbox_to_anchor=(1., 1.0)\n",
        ")\n",
        "\n",
        "ax_l.plot(range(len(timesteps_low)), fraction_n_positives_low)\n",
        "ax_l.plot(range(len(timesteps_low)), fraction_n_negatives_low, '--')\n",
        "\n",
        "ax_h.set(title='High engagement scenario', ylabel='Fraction of nodes')\n",
        "ax_l.set(title='Low engagement scenario', xlabel='Time', ylabel='Fraction of nodes')\n",
        "\n",
        "plt.tight_layout()\n",
        "plt.show()"
      ]
    },
    {
      "cell_type": "code",
      "execution_count": null,
      "metadata": {
        "id": "AodFLUv5ClSo"
      },
      "outputs": [],
      "source": []
    }
  ],
  "metadata": {
    "colab": {
      "collapsed_sections": [
        "Z5MpOi4TR-0y",
        "j1ph2mpnDETM"
      ],
      "provenance": []
    },
    "kernelspec": {
      "display_name": "Python 3",
      "name": "python3"
    },
    "language_info": {
      "codemirror_mode": {
        "name": "ipython",
        "version": 3
      },
      "file_extension": ".py",
      "mimetype": "text/x-python",
      "name": "python",
      "nbconvert_exporter": "python",
      "pygments_lexer": "ipython3",
      "version": "3.9.6"
    }
  },
  "nbformat": 4,
  "nbformat_minor": 0
}
