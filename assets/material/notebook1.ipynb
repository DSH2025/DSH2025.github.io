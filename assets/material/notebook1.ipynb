{
 "cells": [
  {
   "cell_type": "markdown",
   "id": "YQkhBHFI9Hdz",
   "metadata": {
    "id": "YQkhBHFI9Hdz"
   },
   "source": [
    "# Tutorial Part I\n",
    "In this notebook, you will learn how to model and analyze hypergraphs via the `hypergraphx` Python library.\n"
   ]
  },
  {
   "cell_type": "markdown",
   "id": "b6b5c83b-0b38-475a-bd2e-2ad57b48c777",
   "metadata": {
    "id": "b6b5c83b-0b38-475a-bd2e-2ad57b48c777"
   },
   "source": [
    "# Hypergraph modeling with Hypergraphx\n",
    "<code>Hypergraphx</code> is a Python package designed to model and analyze hypergraph structures, presented in the following article:\n",
    "\n",
    "> Quintino Francesco Lotito, Martina Contisciani, Caterina De Bacco, Leonardo Di Gaetano, Luca Gallo, Alberto Montresor, Federico Musciotto, Nicolò Ruggeri, Federico Battiston, *Hypergraphx: a library for higher-order network analysis*, Journal of Complex Networks, Volume 11, Issue 3, June 2023, cnad019, https://doi.org/10.1093/comnet/cnad019\n",
    "\n",
    "\n",
    "This Notebook is meant to be an introductory tutorial. For more advanced features, please refer to the official [documentation](hypergraphx.readthedocs.io/en/latest/#).\n",
    "\n",
    "In this tutorial, we will use hgx v1.7.3.\n",
    "\n",
    "The easiest way to install hypergraphx is via pip:\n"
   ]
  },
  {
   "cell_type": "code",
   "execution_count": 2,
   "id": "qlw7f3PcC7YL",
   "metadata": {
    "colab": {
     "base_uri": "https://localhost:8080/"
    },
    "collapsed": true,
    "executionInfo": {
     "elapsed": 5948,
     "status": "ok",
     "timestamp": 1750145036824,
     "user": {
      "displayName": "Daniele DE VINCO",
      "userId": "13849437728989723640"
     },
     "user_tz": -120
    },
    "id": "qlw7f3PcC7YL",
    "outputId": "686a73e7-e694-4b0a-f65c-08e94bc28078"
   },
   "outputs": [
    {
     "name": "stdout",
     "output_type": "stream",
     "text": [
      "Defaulting to user installation because normal site-packages is not writeable\n",
      "Requirement already satisfied: hypergraphx==1.7.3 in /Users/danieledevinco/Library/Python/3.9/lib/python/site-packages (1.7.3)\n",
      "Requirement already satisfied: pandas in /Users/danieledevinco/Library/Python/3.9/lib/python/site-packages (from hypergraphx==1.7.3) (2.3.0)\n",
      "Requirement already satisfied: numpy in /Users/danieledevinco/Library/Python/3.9/lib/python/site-packages (from hypergraphx==1.7.3) (2.0.2)\n",
      "Requirement already satisfied: seaborn in /Users/danieledevinco/Library/Python/3.9/lib/python/site-packages (from hypergraphx==1.7.3) (0.13.2)\n",
      "Requirement already satisfied: pytest in /Users/danieledevinco/Library/Python/3.9/lib/python/site-packages (from hypergraphx==1.7.3) (8.4.1)\n",
      "Requirement already satisfied: scikit-learn in /Users/danieledevinco/Library/Python/3.9/lib/python/site-packages (from hypergraphx==1.7.3) (1.6.1)\n",
      "Requirement already satisfied: scipy in /Users/danieledevinco/Library/Python/3.9/lib/python/site-packages (from hypergraphx==1.7.3) (1.13.1)\n",
      "Requirement already satisfied: matplotlib in /Users/danieledevinco/Library/Python/3.9/lib/python/site-packages (from hypergraphx==1.7.3) (3.9.4)\n",
      "Requirement already satisfied: networkx in /Users/danieledevinco/Library/Python/3.9/lib/python/site-packages (from hypergraphx==1.7.3) (3.2.1)\n",
      "Requirement already satisfied: importlib-resources>=3.2.0 in /Users/danieledevinco/Library/Python/3.9/lib/python/site-packages (from matplotlib->hypergraphx==1.7.3) (6.5.2)\n",
      "Requirement already satisfied: contourpy>=1.0.1 in /Users/danieledevinco/Library/Python/3.9/lib/python/site-packages (from matplotlib->hypergraphx==1.7.3) (1.3.0)\n",
      "Requirement already satisfied: pillow>=8 in /Users/danieledevinco/Library/Python/3.9/lib/python/site-packages (from matplotlib->hypergraphx==1.7.3) (11.2.1)\n",
      "Requirement already satisfied: fonttools>=4.22.0 in /Users/danieledevinco/Library/Python/3.9/lib/python/site-packages (from matplotlib->hypergraphx==1.7.3) (4.58.4)\n",
      "Requirement already satisfied: python-dateutil>=2.7 in /Users/danieledevinco/Library/Python/3.9/lib/python/site-packages (from matplotlib->hypergraphx==1.7.3) (2.9.0.post0)\n",
      "Requirement already satisfied: kiwisolver>=1.3.1 in /Users/danieledevinco/Library/Python/3.9/lib/python/site-packages (from matplotlib->hypergraphx==1.7.3) (1.4.7)\n",
      "Requirement already satisfied: pyparsing>=2.3.1 in /Users/danieledevinco/Library/Python/3.9/lib/python/site-packages (from matplotlib->hypergraphx==1.7.3) (3.2.3)\n",
      "Requirement already satisfied: cycler>=0.10 in /Users/danieledevinco/Library/Python/3.9/lib/python/site-packages (from matplotlib->hypergraphx==1.7.3) (0.12.1)\n",
      "Requirement already satisfied: packaging>=20.0 in /Users/danieledevinco/Library/Python/3.9/lib/python/site-packages (from matplotlib->hypergraphx==1.7.3) (25.0)\n",
      "Requirement already satisfied: zipp>=3.1.0 in /Users/danieledevinco/Library/Python/3.9/lib/python/site-packages (from importlib-resources>=3.2.0->matplotlib->hypergraphx==1.7.3) (3.23.0)\n",
      "Requirement already satisfied: six>=1.5 in /Library/Developer/CommandLineTools/Library/Frameworks/Python3.framework/Versions/3.9/lib/python3.9/site-packages (from python-dateutil>=2.7->matplotlib->hypergraphx==1.7.3) (1.15.0)\n",
      "Requirement already satisfied: pytz>=2020.1 in /Users/danieledevinco/Library/Python/3.9/lib/python/site-packages (from pandas->hypergraphx==1.7.3) (2025.2)\n",
      "Requirement already satisfied: tzdata>=2022.7 in /Users/danieledevinco/Library/Python/3.9/lib/python/site-packages (from pandas->hypergraphx==1.7.3) (2025.2)\n",
      "Requirement already satisfied: iniconfig>=1 in /Users/danieledevinco/Library/Python/3.9/lib/python/site-packages (from pytest->hypergraphx==1.7.3) (2.1.0)\n",
      "Requirement already satisfied: pygments>=2.7.2 in /Users/danieledevinco/Library/Python/3.9/lib/python/site-packages (from pytest->hypergraphx==1.7.3) (2.19.1)\n",
      "Requirement already satisfied: exceptiongroup>=1 in /Users/danieledevinco/Library/Python/3.9/lib/python/site-packages (from pytest->hypergraphx==1.7.3) (1.3.0)\n",
      "Requirement already satisfied: pluggy<2,>=1.5 in /Users/danieledevinco/Library/Python/3.9/lib/python/site-packages (from pytest->hypergraphx==1.7.3) (1.6.0)\n",
      "Requirement already satisfied: tomli>=1 in /Users/danieledevinco/Library/Python/3.9/lib/python/site-packages (from pytest->hypergraphx==1.7.3) (2.2.1)\n",
      "Requirement already satisfied: typing-extensions>=4.6.0 in /Users/danieledevinco/Library/Python/3.9/lib/python/site-packages (from exceptiongroup>=1->pytest->hypergraphx==1.7.3) (4.14.0)\n",
      "Requirement already satisfied: joblib>=1.2.0 in /Users/danieledevinco/Library/Python/3.9/lib/python/site-packages (from scikit-learn->hypergraphx==1.7.3) (1.5.1)\n",
      "Requirement already satisfied: threadpoolctl>=3.1.0 in /Users/danieledevinco/Library/Python/3.9/lib/python/site-packages (from scikit-learn->hypergraphx==1.7.3) (3.6.0)\n",
      "\u001b[33mWARNING: You are using pip version 21.2.4; however, version 25.1.1 is available.\n",
      "You should consider upgrading via the '/Library/Developer/CommandLineTools/usr/bin/python3 -m pip install --upgrade pip' command.\u001b[0m\n",
      "Note: you may need to restart the kernel to use updated packages.\n"
     ]
    }
   ],
   "source": [
    "pip install hypergraphx==1.7.3"
   ]
  },
  {
   "cell_type": "markdown",
   "id": "zkbG6MosC_Qn",
   "metadata": {
    "id": "zkbG6MosC_Qn"
   },
   "source": [
    "Start by importing the library:"
   ]
  },
  {
   "cell_type": "code",
   "execution_count": 3,
   "id": "134987b4-5dd9-43ca-8732-78934a68acdc",
   "metadata": {
    "ExecuteTime": {
     "end_time": "2024-10-01T11:39:02.377352Z",
     "start_time": "2024-10-01T11:39:02.371927Z"
    },
    "id": "134987b4-5dd9-43ca-8732-78934a68acdc"
   },
   "outputs": [],
   "source": [
    "import hypergraphx as hgx"
   ]
  },
  {
   "cell_type": "markdown",
   "id": "4266a727-a752-49ec-8db7-ba939ad5fbc5",
   "metadata": {
    "id": "4266a727-a752-49ec-8db7-ba939ad5fbc5"
   },
   "source": [
    "## Hypergraph manipulation"
   ]
  },
  {
   "cell_type": "markdown",
   "id": "59c5805b-47bf-46fb-911f-e484ee10a3fa",
   "metadata": {
    "id": "59c5805b-47bf-46fb-911f-e484ee10a3fa"
   },
   "source": [
    "With <code>hgx</code>, (static, undirected) hypergraphs are modeled with the <code>Hypergraph</code> class. The first part of this tutorial will go through some of its basic functionalities.\n",
    "\n",
    "There are several ways to create a hypergraph. You can directly pass the hyperedge list to the constructor. At creation, you must also specify whether the hypergraph will allow edge weights or not. If <code>weighted</code> is <code>True</code>, a list of edge weights must be provided via the <code>weights</code> parameter, otherwise a <code>ValueError</code> exception will be thrown."
   ]
  },
  {
   "cell_type": "code",
   "execution_count": 4,
   "id": "57356d87-bcfe-4192-99de-12fd5cee8c00",
   "metadata": {
    "ExecuteTime": {
     "end_time": "2024-10-01T11:39:03.040678Z",
     "start_time": "2024-10-01T11:39:03.036885Z"
    },
    "id": "57356d87-bcfe-4192-99de-12fd5cee8c00"
   },
   "outputs": [],
   "source": [
    "hyperedge_list = [\n",
    "    (1, 3),\n",
    "    (1, 4),\n",
    "    (1, 2),\n",
    "    (5, 6, 7, 8),\n",
    "    (1, 2, 3)\n",
    "]\n",
    "\n",
    "h = hgx.Hypergraph(hyperedge_list)\n",
    "\n",
    "# weighted hypergraph\n",
    "hw = hgx.Hypergraph(\n",
    "    hyperedge_list,\n",
    "    weighted = True,\n",
    "    weights = [.4, .5, .9, .3, .3]\n",
    ")"
   ]
  },
  {
   "cell_type": "markdown",
   "id": "55b0910e-90bf-42a5-bb67-0d817c19ee67",
   "metadata": {
    "id": "55b0910e-90bf-42a5-bb67-0d817c19ee67"
   },
   "source": [
    "Printing the object displays some of its properties"
   ]
  },
  {
   "cell_type": "code",
   "execution_count": 5,
   "id": "gqyQQuTuGBlY",
   "metadata": {
    "colab": {
     "base_uri": "https://localhost:8080/"
    },
    "executionInfo": {
     "elapsed": 22,
     "status": "ok",
     "timestamp": 1750145038711,
     "user": {
      "displayName": "Daniele DE VINCO",
      "userId": "13849437728989723640"
     },
     "user_tz": -120
    },
    "id": "gqyQQuTuGBlY",
    "outputId": "97d2579e-9b7a-4062-86c2-8e6a76d332ca"
   },
   "outputs": [
    {
     "name": "stdout",
     "output_type": "stream",
     "text": [
      "Hypergraph with 8 nodes and 5 edges.\n",
      "Distribution of hyperedge sizes: {2: 3, 4: 1, 3: 1}\n"
     ]
    }
   ],
   "source": [
    "print(h)"
   ]
  },
  {
   "cell_type": "code",
   "execution_count": 6,
   "id": "PKNJTTaEC8yp",
   "metadata": {
    "colab": {
     "base_uri": "https://localhost:8080/"
    },
    "executionInfo": {
     "elapsed": 9,
     "status": "ok",
     "timestamp": 1750145038724,
     "user": {
      "displayName": "Daniele DE VINCO",
      "userId": "13849437728989723640"
     },
     "user_tz": -120
    },
    "id": "PKNJTTaEC8yp",
    "outputId": "94795fe4-b879-4c92-a3ab-3ab1f4dbb489"
   },
   "outputs": [
    {
     "name": "stdout",
     "output_type": "stream",
     "text": [
      "Hypergraph with 8 nodes and 5 edges.\n",
      "Distribution of hyperedge sizes: {2: 3, 4: 1, 3: 1}\n"
     ]
    }
   ],
   "source": [
    "print(hw)"
   ]
  },
  {
   "cell_type": "markdown",
   "id": "a48277cb-0470-45e8-bf64-c18001f0ef39",
   "metadata": {
    "id": "a48277cb-0470-45e8-bf64-c18001f0ef39"
   },
   "source": [
    "To add nodes, use the corresponding methods."
   ]
  },
  {
   "cell_type": "code",
   "execution_count": 7,
   "id": "7510b693-687a-4847-870f-6fa17ff81121",
   "metadata": {
    "ExecuteTime": {
     "end_time": "2024-10-01T11:39:03.211567Z",
     "start_time": "2024-10-01T11:39:03.207541Z"
    },
    "id": "7510b693-687a-4847-870f-6fa17ff81121"
   },
   "outputs": [],
   "source": [
    "h.add_node(9) # one node at a time\n",
    "h.add_nodes([10, 11, 12]) # list of nodes"
   ]
  },
  {
   "cell_type": "markdown",
   "id": "40b3529d-f9b5-41f8-b39a-c829dbf68915",
   "metadata": {
    "id": "40b3529d-f9b5-41f8-b39a-c829dbf68915"
   },
   "source": [
    "Hyperedges can also be added to the hypergraph via the corresponding methods. In <code>hgx</code>, hyperedges are simply called \"edges\". Note that if the hypergraph is weighted you must also pass the weights.\n",
    "\n",
    "If a node does not exist, it will be added automatically."
   ]
  },
  {
   "cell_type": "code",
   "execution_count": 8,
   "id": "75e56ca4-3330-48b0-92de-3f2b21eab44c",
   "metadata": {
    "ExecuteTime": {
     "end_time": "2024-10-01T11:39:03.376176Z",
     "start_time": "2024-10-01T11:39:03.373353Z"
    },
    "id": "75e56ca4-3330-48b0-92de-3f2b21eab44c"
   },
   "outputs": [],
   "source": [
    "h.add_edge([9,10,11]) # one hyperedge at a time\n",
    "h.add_edges([ # list of hyperedges\n",
    "    [9,10],\n",
    "    [9, 11, 12, 13]\n",
    "])\n",
    "# hw.add_edge([9,10,11])\n",
    "# hw.add_edge([9,10,11], 0.1)"
   ]
  },
  {
   "cell_type": "code",
   "execution_count": 9,
   "id": "11c8ec17-7976-4e6d-b8b6-b2b0f56d7cb0",
   "metadata": {
    "ExecuteTime": {
     "end_time": "2024-10-01T11:39:03.543893Z",
     "start_time": "2024-10-01T11:39:03.540471Z"
    },
    "colab": {
     "base_uri": "https://localhost:8080/"
    },
    "executionInfo": {
     "elapsed": 26,
     "status": "ok",
     "timestamp": 1750145041584,
     "user": {
      "displayName": "Daniele DE VINCO",
      "userId": "13849437728989723640"
     },
     "user_tz": -120
    },
    "id": "11c8ec17-7976-4e6d-b8b6-b2b0f56d7cb0",
    "outputId": "31870084-354f-4f7c-81c6-50f4c1f948fd"
   },
   "outputs": [
    {
     "name": "stdout",
     "output_type": "stream",
     "text": [
      "Hypergraph with 13 nodes and 8 edges.\n",
      "Distribution of hyperedge sizes: {2: 4, 4: 2, 3: 2}\n"
     ]
    }
   ],
   "source": [
    "print(h)"
   ]
  },
  {
   "cell_type": "markdown",
   "id": "bc24ecac-506d-47d5-8cf3-cb5d23e4433f",
   "metadata": {
    "id": "bc24ecac-506d-47d5-8cf3-cb5d23e4433f"
   },
   "source": [
    "Similarly, <code>hgx</code> also allows to remove nodes and edges."
   ]
  },
  {
   "cell_type": "code",
   "execution_count": 10,
   "id": "5d96340e-46a2-4917-a84c-7adbf63faceb",
   "metadata": {
    "ExecuteTime": {
     "end_time": "2024-10-01T11:39:03.712419Z",
     "start_time": "2024-10-01T11:39:03.708802Z"
    },
    "id": "5d96340e-46a2-4917-a84c-7adbf63faceb"
   },
   "outputs": [],
   "source": [
    "h.remove_edge([9,11,12,13])\n",
    "h.remove_node(13)"
   ]
  },
  {
   "cell_type": "markdown",
   "id": "fa231d65-aec0-4867-b293-2759247afa07",
   "metadata": {
    "id": "fa231d65-aec0-4867-b293-2759247afa07"
   },
   "source": [
    "Let's check the node/edge does not exist anymore"
   ]
  },
  {
   "cell_type": "code",
   "execution_count": 11,
   "id": "d7dcf581-8e48-4fcb-9dfd-19a925a5e7af",
   "metadata": {
    "ExecuteTime": {
     "end_time": "2024-10-01T11:39:03.873628Z",
     "start_time": "2024-10-01T11:39:03.869894Z"
    },
    "colab": {
     "base_uri": "https://localhost:8080/"
    },
    "executionInfo": {
     "elapsed": 38,
     "status": "ok",
     "timestamp": 1750145044836,
     "user": {
      "displayName": "Daniele DE VINCO",
      "userId": "13849437728989723640"
     },
     "user_tz": -120
    },
    "id": "d7dcf581-8e48-4fcb-9dfd-19a925a5e7af",
    "outputId": "4a26729d-66c3-41a5-e820-0192ae6956f5"
   },
   "outputs": [
    {
     "data": {
      "text/plain": [
       "False"
      ]
     },
     "execution_count": 11,
     "metadata": {},
     "output_type": "execute_result"
    }
   ],
   "source": [
    "h.check_node(13)"
   ]
  },
  {
   "cell_type": "code",
   "execution_count": 12,
   "id": "2b826d44-8282-49a5-b3a1-b1dfe73de94d",
   "metadata": {
    "ExecuteTime": {
     "end_time": "2024-10-01T11:39:03.971722Z",
     "start_time": "2024-10-01T11:39:03.967162Z"
    },
    "colab": {
     "base_uri": "https://localhost:8080/"
    },
    "executionInfo": {
     "elapsed": 18,
     "status": "ok",
     "timestamp": 1750145045498,
     "user": {
      "displayName": "Daniele DE VINCO",
      "userId": "13849437728989723640"
     },
     "user_tz": -120
    },
    "id": "2b826d44-8282-49a5-b3a1-b1dfe73de94d",
    "outputId": "45634520-1fc2-423f-9c69-033f69858e12"
   },
   "outputs": [
    {
     "data": {
      "text/plain": [
       "False"
      ]
     },
     "execution_count": 12,
     "metadata": {},
     "output_type": "execute_result"
    }
   ],
   "source": [
    "h.check_edge([9,11,12,13])"
   ]
  },
  {
   "cell_type": "markdown",
   "id": "2394fe98-42f8-4946-8c2c-0b500ed1727b",
   "metadata": {
    "id": "2394fe98-42f8-4946-8c2c-0b500ed1727b"
   },
   "source": [
    "Hypergraphs can be conveniently represented with an adjacency matrix, where\n",
    "- rows and columns refer to nodes, and\n",
    "- values at the intersections represent the number of hyperedges two nodes share.\n"
   ]
  },
  {
   "cell_type": "code",
   "execution_count": 13,
   "id": "8d5d6154-398d-46cc-afd5-7fc9a811c2cd",
   "metadata": {
    "ExecuteTime": {
     "end_time": "2024-10-01T11:39:17.549313Z",
     "start_time": "2024-10-01T11:39:17.542768Z"
    },
    "colab": {
     "base_uri": "https://localhost:8080/",
     "height": 53
    },
    "executionInfo": {
     "elapsed": 45,
     "status": "ok",
     "timestamp": 1750145047432,
     "user": {
      "displayName": "Daniele DE VINCO",
      "userId": "13849437728989723640"
     },
     "user_tz": -120
    },
    "id": "8d5d6154-398d-46cc-afd5-7fc9a811c2cd",
    "outputId": "89bb20c5-5df1-4047-913d-6aab2f049272"
   },
   "outputs": [
    {
     "data": {
      "text/plain": [
       "array([[0, 2, 2, 1, 0, 0, 0, 0, 0, 0, 0, 0],\n",
       "       [2, 0, 1, 0, 0, 0, 0, 0, 0, 0, 0, 0],\n",
       "       [2, 1, 0, 0, 0, 0, 0, 0, 0, 0, 0, 0],\n",
       "       [1, 0, 0, 0, 0, 0, 0, 0, 0, 0, 0, 0],\n",
       "       [0, 0, 0, 0, 0, 1, 1, 1, 0, 0, 0, 0],\n",
       "       [0, 0, 0, 0, 1, 0, 1, 1, 0, 0, 0, 0],\n",
       "       [0, 0, 0, 0, 1, 1, 0, 1, 0, 0, 0, 0],\n",
       "       [0, 0, 0, 0, 1, 1, 1, 0, 0, 0, 0, 0],\n",
       "       [0, 0, 0, 0, 0, 0, 0, 0, 0, 2, 1, 0],\n",
       "       [0, 0, 0, 0, 0, 0, 0, 0, 2, 0, 1, 0],\n",
       "       [0, 0, 0, 0, 0, 0, 0, 0, 1, 1, 0, 0],\n",
       "       [0, 0, 0, 0, 0, 0, 0, 0, 0, 0, 0, 0]], dtype=uint8)"
      ]
     },
     "execution_count": 13,
     "metadata": {},
     "output_type": "execute_result"
    }
   ],
   "source": [
    "A = h.adjacency_matrix()\n",
    "A.toarray()"
   ]
  },
  {
   "cell_type": "markdown",
   "id": "75cdb3a3-0b57-4c40-a21d-ca2219d430ce",
   "metadata": {
    "id": "75cdb3a3-0b57-4c40-a21d-ca2219d430ce"
   },
   "source": [
    "We can also use an incidence matrix to represent a hypergraph, where\n",
    "- rows represent nodes,\n",
    "- columns represent hyperedges, and\n",
    "- values at the intersections tell whether a hyperedge contains (1) a node or not (0). If the hypergraph is weighted, than each element of the matrix tells the weight of a given vertex within a specific hyperedge."
   ]
  },
  {
   "cell_type": "code",
   "execution_count": 14,
   "id": "58ee4115-343c-4606-9e00-d769934b9de0",
   "metadata": {
    "ExecuteTime": {
     "end_time": "2024-10-01T11:40:22.560204Z",
     "start_time": "2024-10-01T11:40:22.523815Z"
    },
    "colab": {
     "base_uri": "https://localhost:8080/"
    },
    "executionInfo": {
     "elapsed": 31,
     "status": "ok",
     "timestamp": 1750145049276,
     "user": {
      "displayName": "Daniele DE VINCO",
      "userId": "13849437728989723640"
     },
     "user_tz": -120
    },
    "id": "58ee4115-343c-4606-9e00-d769934b9de0",
    "outputId": "f213e51d-2a7c-488f-90f0-bf28de61e755"
   },
   "outputs": [
    {
     "data": {
      "text/plain": [
       "array([[1, 1, 1, 0, 1, 0, 0],\n",
       "       [0, 0, 1, 0, 1, 0, 0],\n",
       "       [1, 0, 0, 0, 1, 0, 0],\n",
       "       [0, 1, 0, 0, 0, 0, 0],\n",
       "       [0, 0, 0, 1, 0, 0, 0],\n",
       "       [0, 0, 0, 1, 0, 0, 0],\n",
       "       [0, 0, 0, 1, 0, 0, 0],\n",
       "       [0, 0, 0, 1, 0, 0, 0],\n",
       "       [0, 0, 0, 0, 0, 1, 1],\n",
       "       [0, 0, 0, 0, 0, 1, 1],\n",
       "       [0, 0, 0, 0, 0, 1, 0],\n",
       "       [0, 0, 0, 0, 0, 0, 0]])"
      ]
     },
     "execution_count": 14,
     "metadata": {},
     "output_type": "execute_result"
    }
   ],
   "source": [
    "A = h.incidence_matrix()\n",
    "A.toarray()"
   ]
  },
  {
   "cell_type": "code",
   "execution_count": 15,
   "id": "WQDA0m_CKy2h",
   "metadata": {
    "colab": {
     "base_uri": "https://localhost:8080/"
    },
    "executionInfo": {
     "elapsed": 58,
     "status": "ok",
     "timestamp": 1750145051640,
     "user": {
      "displayName": "Daniele DE VINCO",
      "userId": "13849437728989723640"
     },
     "user_tz": -120
    },
    "id": "WQDA0m_CKy2h",
    "outputId": "aeaa5a71-0c15-439a-d504-800f3130765d"
   },
   "outputs": [
    {
     "data": {
      "text/plain": [
       "array([[0.4, 0.5, 0.9, 0. , 0.3],\n",
       "       [0. , 0. , 0.9, 0. , 0.3],\n",
       "       [0.4, 0. , 0. , 0. , 0.3],\n",
       "       [0. , 0.5, 0. , 0. , 0. ],\n",
       "       [0. , 0. , 0. , 0.3, 0. ],\n",
       "       [0. , 0. , 0. , 0.3, 0. ],\n",
       "       [0. , 0. , 0. , 0.3, 0. ],\n",
       "       [0. , 0. , 0. , 0.3, 0. ]])"
      ]
     },
     "execution_count": 15,
     "metadata": {},
     "output_type": "execute_result"
    }
   ],
   "source": [
    "Aw = hw.incidence_matrix()\n",
    "Aw.toarray()"
   ]
  },
  {
   "cell_type": "markdown",
   "id": "1f8b860e-ba60-4717-a2d0-4bbc34bc9539",
   "metadata": {
    "id": "1f8b860e-ba60-4717-a2d0-4bbc34bc9539"
   },
   "source": [
    "Finally, a drawing utility is available in a separate module."
   ]
  },
  {
   "cell_type": "code",
   "execution_count": 16,
   "id": "373a3911-cf27-4f4a-8f57-bada72f724cc",
   "metadata": {
    "ExecuteTime": {
     "end_time": "2024-10-01T11:39:05.083182Z",
     "start_time": "2024-10-01T11:39:04.130285Z"
    },
    "colab": {
     "base_uri": "https://localhost:8080/",
     "height": 576
    },
    "executionInfo": {
     "elapsed": 1837,
     "status": "ok",
     "timestamp": 1750145054937,
     "user": {
      "displayName": "Daniele DE VINCO",
      "userId": "13849437728989723640"
     },
     "user_tz": -120
    },
    "id": "373a3911-cf27-4f4a-8f57-bada72f724cc",
    "outputId": "18f1e350-4a22-44e1-af2b-056cf3e0a5c2"
   },
   "outputs": [
    {
     "data": {
      "image/png": "[encoded data removed]",
      "text/plain": [
       "<Figure size 1200x700 with 1 Axes>"
      ]
     },
     "metadata": {},
     "output_type": "display_data"
    }
   ],
   "source": [
    "from hypergraphx.viz.draw_hypergraph import draw_hypergraph\n",
    "draw_hypergraph(h)"
   ]
  },
  {
   "cell_type": "markdown",
   "id": "c589d699-d486-474a-9d34-2ac4770317b1",
   "metadata": {
    "id": "c589d699-d486-474a-9d34-2ac4770317b1"
   },
   "source": [
    "# Hypergraph Analysis\n",
    "In this section, we will go through basic commands to retrieve information from the hypergraph structure.\n"
   ]
  },
  {
   "cell_type": "code",
   "execution_count": 17,
   "id": "73650c18-f3fa-49ca-bae1-91b7ce13666c",
   "metadata": {
    "ExecuteTime": {
     "end_time": "2024-10-01T11:39:05.090203Z",
     "start_time": "2024-10-01T11:39:05.085797Z"
    },
    "colab": {
     "base_uri": "https://localhost:8080/"
    },
    "executionInfo": {
     "elapsed": 25,
     "status": "ok",
     "timestamp": 1750145056970,
     "user": {
      "displayName": "Daniele DE VINCO",
      "userId": "13849437728989723640"
     },
     "user_tz": -120
    },
    "id": "73650c18-f3fa-49ca-bae1-91b7ce13666c",
    "outputId": "f7ca1b85-4e14-46fb-cfa3-d359c6b44d08"
   },
   "outputs": [
    {
     "data": {
      "text/plain": [
       "12"
      ]
     },
     "execution_count": 17,
     "metadata": {},
     "output_type": "execute_result"
    }
   ],
   "source": [
    "# get the number of nodes\n",
    "h.num_nodes()"
   ]
  },
  {
   "cell_type": "code",
   "execution_count": 18,
   "id": "e50d72c2-834f-44d5-9736-38744be48f73",
   "metadata": {
    "ExecuteTime": {
     "end_time": "2024-10-01T11:39:05.688050Z",
     "start_time": "2024-10-01T11:39:05.684549Z"
    },
    "colab": {
     "base_uri": "https://localhost:8080/"
    },
    "executionInfo": {
     "elapsed": 26,
     "status": "ok",
     "timestamp": 1750145057631,
     "user": {
      "displayName": "Daniele DE VINCO",
      "userId": "13849437728989723640"
     },
     "user_tz": -120
    },
    "id": "e50d72c2-834f-44d5-9736-38744be48f73",
    "outputId": "7ae83c46-7cc6-4aea-f61c-19da37c44321"
   },
   "outputs": [
    {
     "data": {
      "text/plain": [
       "7"
      ]
     },
     "execution_count": 18,
     "metadata": {},
     "output_type": "execute_result"
    }
   ],
   "source": [
    "# get the number of hyperedges\n",
    "h.num_edges()"
   ]
  },
  {
   "cell_type": "code",
   "execution_count": 19,
   "id": "2c7eca94-3af9-4bdb-864e-a598c56744b1",
   "metadata": {
    "ExecuteTime": {
     "end_time": "2024-10-01T11:39:07.560398Z",
     "start_time": "2024-10-01T11:39:07.556499Z"
    },
    "colab": {
     "base_uri": "https://localhost:8080/"
    },
    "executionInfo": {
     "elapsed": 46,
     "status": "ok",
     "timestamp": 1750145058351,
     "user": {
      "displayName": "Daniele DE VINCO",
      "userId": "13849437728989723640"
     },
     "user_tz": -120
    },
    "id": "2c7eca94-3af9-4bdb-864e-a598c56744b1",
    "outputId": "d6d59ada-3e4f-4949-8a28-d27c1f618465"
   },
   "outputs": [
    {
     "data": {
      "text/plain": [
       "[1, 3, 4, 2, 5, 6, 7, 8, 9, 10, 11, 12]"
      ]
     },
     "execution_count": 19,
     "metadata": {},
     "output_type": "execute_result"
    }
   ],
   "source": [
    "# get the list of nodes\n",
    "h.get_nodes()"
   ]
  },
  {
   "cell_type": "code",
   "execution_count": 20,
   "id": "6d6ebffa-c008-4d4d-afb1-7ac245cee797",
   "metadata": {
    "ExecuteTime": {
     "end_time": "2024-10-01T11:39:08.367144Z",
     "start_time": "2024-10-01T11:39:08.362886Z"
    },
    "colab": {
     "base_uri": "https://localhost:8080/"
    },
    "executionInfo": {
     "elapsed": 33,
     "status": "ok",
     "timestamp": 1750145059391,
     "user": {
      "displayName": "Daniele DE VINCO",
      "userId": "13849437728989723640"
     },
     "user_tz": -120
    },
    "id": "6d6ebffa-c008-4d4d-afb1-7ac245cee797",
    "outputId": "81b0a48e-5479-4803-cdea-a05a57180b6e"
   },
   "outputs": [
    {
     "data": {
      "text/plain": [
       "[(1, 3), (1, 4), (1, 2), (5, 6, 7, 8), (1, 2, 3), (9, 10, 11), (9, 10)]"
      ]
     },
     "execution_count": 20,
     "metadata": {},
     "output_type": "execute_result"
    }
   ],
   "source": [
    "# get the list of hyperedges\n",
    "h.get_edges()"
   ]
  },
  {
   "cell_type": "markdown",
   "id": "531146bd-b8e7-4ef6-8364-9ce913263458",
   "metadata": {
    "id": "531146bd-b8e7-4ef6-8364-9ce913263458"
   },
   "source": [
    "The <code>Hypergraph</code> object can act as an iterator over the **hyperedges**. Note this is different from e.g., <code>networkx</code>, where a similar syntax is used to iterate over nodes."
   ]
  },
  {
   "cell_type": "code",
   "execution_count": 21,
   "id": "3b3b9244-c02f-425d-a4f5-03ecee295e9a",
   "metadata": {
    "ExecuteTime": {
     "end_time": "2024-10-01T11:39:09.298713Z",
     "start_time": "2024-10-01T11:39:09.296358Z"
    },
    "colab": {
     "base_uri": "https://localhost:8080/"
    },
    "executionInfo": {
     "elapsed": 30,
     "status": "ok",
     "timestamp": 1750145060433,
     "user": {
      "displayName": "Daniele DE VINCO",
      "userId": "13849437728989723640"
     },
     "user_tz": -120
    },
    "id": "3b3b9244-c02f-425d-a4f5-03ecee295e9a",
    "outputId": "7aa5a15e-fb6c-4290-f597-0454138eafaa"
   },
   "outputs": [
    {
     "name": "stdout",
     "output_type": "stream",
     "text": [
      "((1, 3), 1)\n",
      "((1, 4), 1)\n",
      "((1, 2), 1)\n",
      "((5, 6, 7, 8), 1)\n",
      "((1, 2, 3), 1)\n",
      "((9, 10, 11), 1)\n",
      "((9, 10), 1)\n"
     ]
    }
   ],
   "source": [
    "for edge in h:\n",
    "    # do something\n",
    "    print(edge)"
   ]
  },
  {
   "cell_type": "markdown",
   "id": "WC9OTrF4kCg2",
   "metadata": {
    "id": "WC9OTrF4kCg2"
   },
   "source": [
    "We can retrieve the list of hyperedges containing a node by using the following function. All hyperedges incident to a node represent a local structure called **star**. The structure maps a node's entire *neighborhood* of interactions."
   ]
  },
  {
   "cell_type": "code",
   "execution_count": 22,
   "id": "80BUAJVckCHM",
   "metadata": {
    "colab": {
     "base_uri": "https://localhost:8080/"
    },
    "executionInfo": {
     "elapsed": 20,
     "status": "ok",
     "timestamp": 1750145068227,
     "user": {
      "displayName": "Daniele DE VINCO",
      "userId": "13849437728989723640"
     },
     "user_tz": -120
    },
    "id": "80BUAJVckCHM",
    "outputId": "63bd0504-0801-43a4-cbe1-031a187173d8"
   },
   "outputs": [
    {
     "data": {
      "text/plain": [
       "[(1, 3), (1, 4), (1, 2, 3), (1, 2)]"
      ]
     },
     "execution_count": 22,
     "metadata": {},
     "output_type": "execute_result"
    }
   ],
   "source": [
    "node_id = 1\n",
    "h.get_incident_edges(node=node_id)"
   ]
  },
  {
   "cell_type": "markdown",
   "id": "7453972e-4859-4bc1-abb9-53614956d434",
   "metadata": {
    "id": "7453972e-4859-4bc1-abb9-53614956d434"
   },
   "source": [
    "The following methods return booleans describing some structural characteristics of the hypergraph.\n",
    "- In a *uniform* hypergraph, all hyperedges have the same size."
   ]
  },
  {
   "cell_type": "code",
   "execution_count": 23,
   "id": "060df116-202b-4cde-86e3-790bb8dfaa60",
   "metadata": {
    "ExecuteTime": {
     "end_time": "2024-10-01T11:39:10.349832Z",
     "start_time": "2024-10-01T11:39:10.345356Z"
    },
    "colab": {
     "base_uri": "https://localhost:8080/"
    },
    "executionInfo": {
     "elapsed": 36,
     "status": "ok",
     "timestamp": 1750145070564,
     "user": {
      "displayName": "Daniele DE VINCO",
      "userId": "13849437728989723640"
     },
     "user_tz": -120
    },
    "id": "060df116-202b-4cde-86e3-790bb8dfaa60",
    "outputId": "e70c0b98-ddbf-4a45-e1d0-dbfca0401653"
   },
   "outputs": [
    {
     "data": {
      "text/plain": [
       "(False, False, False)"
      ]
     },
     "execution_count": 23,
     "metadata": {},
     "output_type": "execute_result"
    }
   ],
   "source": [
    "h.is_uniform(), h.is_weighted(), h.is_connected()"
   ]
  },
  {
   "cell_type": "markdown",
   "id": "38ef754b-cddb-492d-b201-10504ca2d692",
   "metadata": {
    "id": "38ef754b-cddb-492d-b201-10504ca2d692"
   },
   "source": [
    "The node degree distribution can be computed as follows. This function returns a dictionary mapping degrees to the number of nodes having that degree. In hypergraphs, the degree of a node is the number of hyperedges incident on that node."
   ]
  },
  {
   "cell_type": "code",
   "execution_count": 24,
   "id": "ed1add28-f558-4e66-8873-ceaf2a4e4f03",
   "metadata": {
    "ExecuteTime": {
     "end_time": "2024-10-01T11:39:11.979191Z",
     "start_time": "2024-10-01T11:39:11.975940Z"
    },
    "colab": {
     "base_uri": "https://localhost:8080/"
    },
    "executionInfo": {
     "elapsed": 22,
     "status": "ok",
     "timestamp": 1750145072062,
     "user": {
      "displayName": "Daniele DE VINCO",
      "userId": "13849437728989723640"
     },
     "user_tz": -120
    },
    "id": "ed1add28-f558-4e66-8873-ceaf2a4e4f03",
    "outputId": "2255a2f0-d123-4bee-91e5-58178545134a"
   },
   "outputs": [
    {
     "data": {
      "text/plain": [
       "{4: 1, 2: 4, 1: 6, 0: 1}"
      ]
     },
     "execution_count": 24,
     "metadata": {},
     "output_type": "execute_result"
    }
   ],
   "source": [
    "h.degree_distribution()"
   ]
  },
  {
   "cell_type": "markdown",
   "id": "ff090541-aad0-4218-a586-c0e659300027",
   "metadata": {
    "id": "ff090541-aad0-4218-a586-c0e659300027"
   },
   "source": [
    "To visually inspect node degree distribution:"
   ]
  },
  {
   "cell_type": "code",
   "execution_count": 25,
   "id": "f58f812a-1c23-4322-88a5-ffebfe4f309a",
   "metadata": {
    "ExecuteTime": {
     "end_time": "2024-10-01T11:39:13.027160Z",
     "start_time": "2024-10-01T11:39:12.888278Z"
    },
    "id": "f58f812a-1c23-4322-88a5-ffebfe4f309a"
   },
   "outputs": [],
   "source": [
    "import matplotlib.pyplot as plt\n",
    "import seaborn as sns\n",
    "\n",
    "def plot_degree_distribution(h, loglog=False):\n",
    "    cnt = h.degree_distribution()\n",
    "    deg = cnt.keys()\n",
    "    freq = cnt.values()\n",
    "    ax = sns.scatterplot(x=deg, y=freq, alpha=.6)\n",
    "    ax.set_xlabel('Degree')\n",
    "    ax.set_ylabel('Frequency')\n",
    "    ax.set_title('Degree Distribution')\n",
    "    ax.grid(alpha=.2)\n",
    "    if loglog:\n",
    "        ax.loglog()\n",
    "    plt.show()"
   ]
  },
  {
   "cell_type": "code",
   "execution_count": 26,
   "id": "EYw3K2zDJiXT",
   "metadata": {
    "colab": {
     "base_uri": "https://localhost:8080/",
     "height": 472
    },
    "executionInfo": {
     "elapsed": 623,
     "status": "ok",
     "timestamp": 1750145090440,
     "user": {
      "displayName": "Daniele DE VINCO",
      "userId": "13849437728989723640"
     },
     "user_tz": -120
    },
    "id": "EYw3K2zDJiXT",
    "outputId": "bf8c5a70-85e6-4fc5-f0a8-9a172834ce35"
   },
   "outputs": [
    {
     "data": {
      "image/png": "[encoded data removed]",
      "text/plain": [
       "<Figure size 640x480 with 1 Axes>"
      ]
     },
     "metadata": {},
     "output_type": "display_data"
    }
   ],
   "source": [
    "plot_degree_distribution(h, loglog=False)"
   ]
  },
  {
   "cell_type": "markdown",
   "id": "09795aa0-0bd2-4808-ad2c-0ee2b0a05b6e",
   "metadata": {
    "id": "09795aa0-0bd2-4808-ad2c-0ee2b0a05b6e"
   },
   "source": [
    "Similarly, we can compute the hyperedge size distribution. The <code>get_sizes</code> method returns a list of sizes."
   ]
  },
  {
   "cell_type": "code",
   "execution_count": 27,
   "id": "a4c762fb-0be7-4fc0-afad-008eec53915d",
   "metadata": {
    "ExecuteTime": {
     "end_time": "2024-10-01T11:39:13.880309Z",
     "start_time": "2024-10-01T11:39:13.876949Z"
    },
    "colab": {
     "base_uri": "https://localhost:8080/"
    },
    "executionInfo": {
     "elapsed": 71,
     "status": "ok",
     "timestamp": 1750145119577,
     "user": {
      "displayName": "Daniele DE VINCO",
      "userId": "13849437728989723640"
     },
     "user_tz": -120
    },
    "id": "a4c762fb-0be7-4fc0-afad-008eec53915d",
    "outputId": "29c02752-cd3f-4665-d0ef-8913e2e9d205"
   },
   "outputs": [
    {
     "data": {
      "text/plain": [
       "[2, 2, 2, 4, 3, 3, 2]"
      ]
     },
     "execution_count": 27,
     "metadata": {},
     "output_type": "execute_result"
    }
   ],
   "source": [
    "h.get_sizes()"
   ]
  },
  {
   "cell_type": "markdown",
   "id": "dd495724-3ad4-4f77-ae8f-9b1276d72407",
   "metadata": {
    "id": "dd495724-3ad4-4f77-ae8f-9b1276d72407"
   },
   "source": [
    "We first need to count the number of edges for each size with the <code>Counter</code>."
   ]
  },
  {
   "cell_type": "code",
   "execution_count": 28,
   "id": "c015a0f2-4e69-4f2f-be29-6a38766ffc7f",
   "metadata": {
    "ExecuteTime": {
     "end_time": "2024-10-01T11:39:15.003839Z",
     "start_time": "2024-10-01T11:39:15.000673Z"
    },
    "colab": {
     "base_uri": "https://localhost:8080/"
    },
    "executionInfo": {
     "elapsed": 23,
     "status": "ok",
     "timestamp": 1750145123492,
     "user": {
      "displayName": "Daniele DE VINCO",
      "userId": "13849437728989723640"
     },
     "user_tz": -120
    },
    "id": "c015a0f2-4e69-4f2f-be29-6a38766ffc7f",
    "outputId": "717aee22-6ef5-43e0-e38e-a197eef68817"
   },
   "outputs": [
    {
     "data": {
      "text/plain": [
       "Counter({2: 4, 3: 2, 4: 1})"
      ]
     },
     "execution_count": 28,
     "metadata": {},
     "output_type": "execute_result"
    }
   ],
   "source": [
    "from collections import Counter\n",
    "Counter(h.get_sizes())"
   ]
  },
  {
   "cell_type": "markdown",
   "id": "802bd0fc-859d-46f0-b261-40befcef14a7",
   "metadata": {
    "id": "802bd0fc-859d-46f0-b261-40befcef14a7"
   },
   "source": [
    "Then, to display the distribution:"
   ]
  },
  {
   "cell_type": "code",
   "execution_count": 29,
   "id": "bdd16a5a-e4f6-468a-a2e9-e4a2fa323966",
   "metadata": {
    "ExecuteTime": {
     "end_time": "2024-10-01T11:39:16.259610Z",
     "start_time": "2024-10-01T11:39:16.124529Z"
    },
    "id": "bdd16a5a-e4f6-468a-a2e9-e4a2fa323966"
   },
   "outputs": [],
   "source": [
    "def plot_size_distribution(h, loglog=False):\n",
    "    cnt = Counter(h.get_sizes())\n",
    "    deg = cnt.keys()\n",
    "    freq = cnt.values()\n",
    "    ax = sns.scatterplot(x=deg, y=freq, alpha=.6)\n",
    "    ax.set_xlabel('Size')\n",
    "    ax.set_ylabel('Frequency')\n",
    "    ax.set_title('Size Distribution')\n",
    "    ax.grid(alpha=.2)\n",
    "    if loglog:\n",
    "        ax.loglog()\n",
    "    plt.show()"
   ]
  },
  {
   "cell_type": "code",
   "execution_count": 30,
   "id": "wK-yyZtMJ21J",
   "metadata": {
    "colab": {
     "base_uri": "https://localhost:8080/",
     "height": 472
    },
    "executionInfo": {
     "elapsed": 306,
     "status": "ok",
     "timestamp": 1750145161303,
     "user": {
      "displayName": "Daniele DE VINCO",
      "userId": "13849437728989723640"
     },
     "user_tz": -120
    },
    "id": "wK-yyZtMJ21J",
    "outputId": "ffdac791-8210-49e9-c70e-b84bb44b82ed"
   },
   "outputs": [
    {
     "data": {
      "image/png": "[encoded data removed]",
      "text/plain": [
       "<Figure size 640x480 with 1 Axes>"
      ]
     },
     "metadata": {},
     "output_type": "display_data"
    }
   ],
   "source": [
    "plot_size_distribution(h)"
   ]
  },
  {
   "cell_type": "markdown",
   "id": "51c4ddb9-f9b1-46ea-8dd2-81482ba8fdc8",
   "metadata": {
    "id": "51c4ddb9-f9b1-46ea-8dd2-81482ba8fdc8"
   },
   "source": [
    "## Other measures and utilities\n",
    "<code>hgx</code> offers a wide variety of features, including higher-order community detection, synthetic hypergraph generation, and motifs detection."
   ]
  },
  {
   "cell_type": "markdown",
   "id": "55bbd7f6-971c-4724-a513-a40b702b5c0e",
   "metadata": {
    "id": "55bbd7f6-971c-4724-a513-a40b702b5c0e"
   },
   "source": [
    "Generation of a random hypergraph with controlled number of nodes and hyperedge size distribution."
   ]
  },
  {
   "cell_type": "code",
   "execution_count": 31,
   "id": "55cbf085-6c7b-4794-bd2f-fe97308fe10c",
   "metadata": {
    "ExecuteTime": {
     "end_time": "2024-10-01T11:40:29.873207Z",
     "start_time": "2024-10-01T11:40:29.862925Z"
    },
    "id": "55cbf085-6c7b-4794-bd2f-fe97308fe10c"
   },
   "outputs": [],
   "source": [
    "from hypergraphx.generation.random import random_hypergraph\n",
    "\n",
    "# Generate a random hypergraph with a given number of nodes and hyperedges for each size.\n",
    "# If a hyperedge is sampled multiple times, it will be added to the hypergraph only once.\n",
    "\n",
    "rh = random_hypergraph(\n",
    "      1000,\n",
    "      {2:500 , 3: 300, 4: 100, 5: 50},\n",
    "    )"
   ]
  },
  {
   "cell_type": "code",
   "execution_count": 32,
   "id": "75c7ffd2-6d59-44f1-ab7b-0b256f67390c",
   "metadata": {
    "ExecuteTime": {
     "end_time": "2024-10-01T11:40:30.498519Z",
     "start_time": "2024-10-01T11:40:30.495384Z"
    },
    "colab": {
     "base_uri": "https://localhost:8080/"
    },
    "executionInfo": {
     "elapsed": 66,
     "status": "ok",
     "timestamp": 1750145283804,
     "user": {
      "displayName": "Daniele DE VINCO",
      "userId": "13849437728989723640"
     },
     "user_tz": -120
    },
    "id": "75c7ffd2-6d59-44f1-ab7b-0b256f67390c",
    "outputId": "9c63187f-bd0f-49d5-be99-bbc29a83c344"
   },
   "outputs": [
    {
     "name": "stdout",
     "output_type": "stream",
     "text": [
      "Hypergraph with 1000 nodes and 950 edges.\n",
      "Distribution of hyperedge sizes: {2: 500, 3: 300, 4: 100, 5: 50}\n"
     ]
    }
   ],
   "source": [
    "print(rh)"
   ]
  },
  {
   "cell_type": "code",
   "execution_count": 33,
   "id": "6zlkROMqKDsM",
   "metadata": {
    "colab": {
     "base_uri": "https://localhost:8080/",
     "height": 472
    },
    "executionInfo": {
     "elapsed": 242,
     "status": "ok",
     "timestamp": 1750145293690,
     "user": {
      "displayName": "Daniele DE VINCO",
      "userId": "13849437728989723640"
     },
     "user_tz": -120
    },
    "id": "6zlkROMqKDsM",
    "outputId": "5dcd817f-5a1f-4a39-f0bb-4bf84bc78627"
   },
   "outputs": [
    {
     "data": {
      "image/png": "[encoded data removed]",
      "text/plain": [
       "<Figure size 640x480 with 1 Axes>"
      ]
     },
     "metadata": {},
     "output_type": "display_data"
    }
   ],
   "source": [
    "plot_degree_distribution(rh)"
   ]
  },
  {
   "cell_type": "markdown",
   "id": "5af9f7c1-be15-4792-ba73-1fbfda03c885",
   "metadata": {
    "id": "5af9f7c1-be15-4792-ba73-1fbfda03c885"
   },
   "source": [
    "# Hypergraph I/O\n",
    "The package offers dedicated methods to save and load hypergraphs to files. The supported file types are .json and .pickle"
   ]
  },
  {
   "cell_type": "code",
   "execution_count": 34,
   "id": "aa867999-42ee-4c65-9273-576c664d1d35",
   "metadata": {
    "ExecuteTime": {
     "end_time": "2024-10-01T11:40:32.985301Z",
     "start_time": "2024-10-01T11:40:32.980873Z"
    },
    "id": "aa867999-42ee-4c65-9273-576c664d1d35"
   },
   "outputs": [],
   "source": [
    "from hypergraphx.readwrite.save import save_hypergraph"
   ]
  },
  {
   "cell_type": "code",
   "execution_count": 35,
   "id": "860b5d48-bc16-46bf-8ebb-17c2b81dcb0c",
   "metadata": {
    "ExecuteTime": {
     "end_time": "2024-10-01T11:40:33.925619Z",
     "start_time": "2024-10-01T11:40:33.920904Z"
    },
    "id": "860b5d48-bc16-46bf-8ebb-17c2b81dcb0c"
   },
   "outputs": [],
   "source": [
    "save_hypergraph(rh, 'my_hypergraph.json', file_type='json')"
   ]
  },
  {
   "cell_type": "code",
   "execution_count": 36,
   "id": "4b774621-3b57-4b05-ac24-462531c51157",
   "metadata": {
    "ExecuteTime": {
     "end_time": "2024-10-01T11:40:35.359906Z",
     "start_time": "2024-10-01T11:40:35.356507Z"
    },
    "id": "4b774621-3b57-4b05-ac24-462531c51157"
   },
   "outputs": [],
   "source": [
    "from hypergraphx.readwrite.load import load_hypergraph"
   ]
  },
  {
   "cell_type": "code",
   "execution_count": 37,
   "id": "02889aba-bcb5-45b2-b503-d89da3b53ace",
   "metadata": {
    "ExecuteTime": {
     "end_time": "2024-10-01T11:40:35.786127Z",
     "start_time": "2024-10-01T11:40:35.781417Z"
    },
    "colab": {
     "base_uri": "https://localhost:8080/"
    },
    "executionInfo": {
     "elapsed": 14,
     "status": "ok",
     "timestamp": 1750145315815,
     "user": {
      "displayName": "Daniele DE VINCO",
      "userId": "13849437728989723640"
     },
     "user_tz": -120
    },
    "id": "02889aba-bcb5-45b2-b503-d89da3b53ace",
    "outputId": "147a7f1f-371c-4cd4-dca7-9365e7be77c6"
   },
   "outputs": [
    {
     "name": "stdout",
     "output_type": "stream",
     "text": [
      "Hypergraph with 1000 nodes and 950 edges.\n",
      "Distribution of hyperedge sizes: {2: 500, 3: 300, 4: 100, 5: 50}\n"
     ]
    }
   ],
   "source": [
    "h = load_hypergraph('my_hypergraph.json', file_type='json')\n",
    "print(h)"
   ]
  },
  {
   "cell_type": "code",
   "execution_count": null,
   "id": "9G6uUnZqBNjk",
   "metadata": {
    "id": "9G6uUnZqBNjk"
   },
   "outputs": [],
   "source": []
  }
 ],
 "metadata": {
  "colab": {
   "provenance": []
  },
  "kernelspec": {
   "display_name": "Python 3",
   "language": "python",
   "name": "python3"
  },
  "language_info": {
   "codemirror_mode": {
    "name": "ipython",
    "version": 3
   },
   "file_extension": ".py",
   "mimetype": "text/x-python",
   "name": "python",
   "nbconvert_exporter": "python",
   "pygments_lexer": "ipython3",
   "version": "3.9.6"
  }
 },
 "nbformat": 4,
 "nbformat_minor": 5
}
