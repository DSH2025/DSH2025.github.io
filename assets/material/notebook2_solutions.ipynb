{
  "cells": [
    {
      "cell_type": "markdown",
      "id": "b6b5c83b-0b38-475a-bd2e-2ad57b48c777",
      "metadata": {
        "id": "b6b5c83b-0b38-475a-bd2e-2ad57b48c777"
      },
      "source": [
        "# Structural properties of Hypergraphs\n",
        "- Hypergraph centrality measures\n",
        "- Extracting communities on hypergraphs\n",
        "\n",
        "<code>Hypergraphx</code> is a Python package designed to model and analyze hypergraph structures, presented in the following article:\n",
        "\n",
        "> Quintino Francesco Lotito, Martina Contisciani, Caterina De Bacco, Leonardo Di Gaetano, Luca Gallo, Alberto Montresor, Federico Musciotto, Nicolò Ruggeri, Federico Battiston, *Hypergraphx: a library for higher-order network analysis*, Journal of Complex Networks, Volume 11, Issue 3, June 2023, cnad019, https://doi.org/10.1093/comnet/cnad019\n",
        "\n",
        "\n",
        "This Notebook is meant to be an introductory tutorial. For more advanced features, please refer to the official [documentation](hypergraphx.readthedocs.io/en/latest/#).\n",
        "\n",
        "In this tutorial, we will use hgx v1.7.3.\n",
        "\n",
        "The easiest way to install hypergraphx is via pip:\n"
      ]
    },
    {
      "cell_type": "code",
      "execution_count": 5,
      "id": "qlw7f3PcC7YL",
      "metadata": {
        "colab": {
          "base_uri": "https://localhost:8080/"
        },
        "id": "qlw7f3PcC7YL",
        "outputId": "0717d9e9-7aa3-4b57-d4cb-705e13ad02fb"
      },
      "outputs": [
        {
          "name": "stdout",
          "output_type": "stream",
          "text": [
            "Defaulting to user installation because normal site-packages is not writeable\n",
            "Requirement already satisfied: hypergraphx==1.7.3 in /Users/danieledevinco/Library/Python/3.9/lib/python/site-packages (1.7.3)\n",
            "Requirement already satisfied: scipy in /Users/danieledevinco/Library/Python/3.9/lib/python/site-packages (from hypergraphx==1.7.3) (1.13.1)\n",
            "Requirement already satisfied: pytest in /Users/danieledevinco/Library/Python/3.9/lib/python/site-packages (from hypergraphx==1.7.3) (8.4.1)\n",
            "Requirement already satisfied: pandas in /Users/danieledevinco/Library/Python/3.9/lib/python/site-packages (from hypergraphx==1.7.3) (2.3.0)\n",
            "Requirement already satisfied: matplotlib in /Users/danieledevinco/Library/Python/3.9/lib/python/site-packages (from hypergraphx==1.7.3) (3.9.4)\n",
            "Requirement already satisfied: numpy in /Users/danieledevinco/Library/Python/3.9/lib/python/site-packages (from hypergraphx==1.7.3) (2.0.2)\n",
            "Requirement already satisfied: seaborn in /Users/danieledevinco/Library/Python/3.9/lib/python/site-packages (from hypergraphx==1.7.3) (0.13.2)\n",
            "Requirement already satisfied: scikit-learn in /Users/danieledevinco/Library/Python/3.9/lib/python/site-packages (from hypergraphx==1.7.3) (1.6.1)\n",
            "Requirement already satisfied: networkx in /Users/danieledevinco/Library/Python/3.9/lib/python/site-packages (from hypergraphx==1.7.3) (3.2.1)\n",
            "Requirement already satisfied: contourpy>=1.0.1 in /Users/danieledevinco/Library/Python/3.9/lib/python/site-packages (from matplotlib->hypergraphx==1.7.3) (1.3.0)\n",
            "Requirement already satisfied: importlib-resources>=3.2.0 in /Users/danieledevinco/Library/Python/3.9/lib/python/site-packages (from matplotlib->hypergraphx==1.7.3) (6.5.2)\n",
            "Requirement already satisfied: packaging>=20.0 in /Users/danieledevinco/Library/Python/3.9/lib/python/site-packages (from matplotlib->hypergraphx==1.7.3) (25.0)\n",
            "Requirement already satisfied: pyparsing>=2.3.1 in /Users/danieledevinco/Library/Python/3.9/lib/python/site-packages (from matplotlib->hypergraphx==1.7.3) (3.2.3)\n",
            "Requirement already satisfied: pillow>=8 in /Users/danieledevinco/Library/Python/3.9/lib/python/site-packages (from matplotlib->hypergraphx==1.7.3) (11.2.1)\n",
            "Requirement already satisfied: python-dateutil>=2.7 in /Users/danieledevinco/Library/Python/3.9/lib/python/site-packages (from matplotlib->hypergraphx==1.7.3) (2.9.0.post0)\n",
            "Requirement already satisfied: fonttools>=4.22.0 in /Users/danieledevinco/Library/Python/3.9/lib/python/site-packages (from matplotlib->hypergraphx==1.7.3) (4.58.4)\n",
            "Requirement already satisfied: kiwisolver>=1.3.1 in /Users/danieledevinco/Library/Python/3.9/lib/python/site-packages (from matplotlib->hypergraphx==1.7.3) (1.4.7)\n",
            "Requirement already satisfied: cycler>=0.10 in /Users/danieledevinco/Library/Python/3.9/lib/python/site-packages (from matplotlib->hypergraphx==1.7.3) (0.12.1)\n",
            "Requirement already satisfied: zipp>=3.1.0 in /Users/danieledevinco/Library/Python/3.9/lib/python/site-packages (from importlib-resources>=3.2.0->matplotlib->hypergraphx==1.7.3) (3.23.0)\n",
            "Requirement already satisfied: six>=1.5 in /Library/Developer/CommandLineTools/Library/Frameworks/Python3.framework/Versions/3.9/lib/python3.9/site-packages (from python-dateutil>=2.7->matplotlib->hypergraphx==1.7.3) (1.15.0)\n",
            "Requirement already satisfied: tzdata>=2022.7 in /Users/danieledevinco/Library/Python/3.9/lib/python/site-packages (from pandas->hypergraphx==1.7.3) (2025.2)\n",
            "Requirement already satisfied: pytz>=2020.1 in /Users/danieledevinco/Library/Python/3.9/lib/python/site-packages (from pandas->hypergraphx==1.7.3) (2025.2)\n",
            "Requirement already satisfied: iniconfig>=1 in /Users/danieledevinco/Library/Python/3.9/lib/python/site-packages (from pytest->hypergraphx==1.7.3) (2.1.0)\n",
            "Requirement already satisfied: tomli>=1 in /Users/danieledevinco/Library/Python/3.9/lib/python/site-packages (from pytest->hypergraphx==1.7.3) (2.2.1)\n",
            "Requirement already satisfied: pygments>=2.7.2 in /Users/danieledevinco/Library/Python/3.9/lib/python/site-packages (from pytest->hypergraphx==1.7.3) (2.19.1)\n",
            "Requirement already satisfied: exceptiongroup>=1 in /Users/danieledevinco/Library/Python/3.9/lib/python/site-packages (from pytest->hypergraphx==1.7.3) (1.3.0)\n",
            "Requirement already satisfied: pluggy<2,>=1.5 in /Users/danieledevinco/Library/Python/3.9/lib/python/site-packages (from pytest->hypergraphx==1.7.3) (1.6.0)\n",
            "Requirement already satisfied: typing-extensions>=4.6.0 in /Users/danieledevinco/Library/Python/3.9/lib/python/site-packages (from exceptiongroup>=1->pytest->hypergraphx==1.7.3) (4.14.0)\n",
            "Requirement already satisfied: joblib>=1.2.0 in /Users/danieledevinco/Library/Python/3.9/lib/python/site-packages (from scikit-learn->hypergraphx==1.7.3) (1.5.1)\n",
            "Requirement already satisfied: threadpoolctl>=3.1.0 in /Users/danieledevinco/Library/Python/3.9/lib/python/site-packages (from scikit-learn->hypergraphx==1.7.3) (3.6.0)\n",
            "\u001b[33mWARNING: You are using pip version 21.2.4; however, version 25.1.1 is available.\n",
            "You should consider upgrading via the '/Library/Developer/CommandLineTools/usr/bin/python3 -m pip install --upgrade pip' command.\u001b[0m\n",
            "Note: you may need to restart the kernel to use updated packages.\n"
          ]
        }
      ],
      "source": [
        "pip install hypergraphx==1.7.3"
      ]
    },
    {
      "cell_type": "markdown",
      "id": "zkbG6MosC_Qn",
      "metadata": {
        "id": "zkbG6MosC_Qn"
      },
      "source": [
        "Start by importing the library:"
      ]
    },
    {
      "cell_type": "code",
      "execution_count": 6,
      "id": "134987b4-5dd9-43ca-8732-78934a68acdc",
      "metadata": {
        "id": "134987b4-5dd9-43ca-8732-78934a68acdc"
      },
      "outputs": [],
      "source": [
        "import hypergraphx as hgx"
      ]
    },
    {
      "cell_type": "markdown",
      "id": "c589d699-d486-474a-9d34-2ac4770317b1",
      "metadata": {
        "id": "c589d699-d486-474a-9d34-2ac4770317b1"
      },
      "source": [
        "## Hypergraph Analysis\n",
        "In this section, we will go through basic commands to retrieve information from a hypergraph. First, let's download the data and load a sample hypergraph."
      ]
    },
    {
      "cell_type": "code",
      "execution_count": 7,
      "id": "55cbf085-6c7b-4794-bd2f-fe97308fe10c",
      "metadata": {
        "colab": {
          "base_uri": "https://localhost:8080/"
        },
        "id": "55cbf085-6c7b-4794-bd2f-fe97308fe10c",
        "outputId": "008b9f40-8df9-4b8a-dbd9-ffafce0a6548"
      },
      "outputs": [
        {
          "name": "stdout",
          "output_type": "stream",
          "text": [
            "  % Total    % Received % Xferd  Average Speed   Time    Time     Time  Current\n",
            "                                 Dload  Upload   Total   Spent    Left  Speed\n",
            "  3  102k    3  4125    0     0  10375      0  0:00:10 --:--:--  0:00:10 10364x icwsm2025/\n",
            "x icwsm2025/.DS_Store\n",
            "x icwsm2025/minorities-labels.csv\n",
            "x icwsm2025/politics-edges.txt\n",
            "100  102k  100  102k    0     0   228k      0 --:--:-- --:--:-- --:--:--  228k\n",
            "\n",
            "x icwsm2025/guncontrol-edges.txt\n",
            "x icwsm2025/minorities-edges.txt\n",
            "x icwsm2025/sample.json\n",
            "x icwsm2025/guncontrol-labels.csv\n"
          ]
        }
      ],
      "source": [
        "# !wget -qO - https://raw.githubusercontent.com/andreafailla/andreafailla.github.io/main/static/uploads/data/icwsm2025.tar.gz | tar -xzv\n",
        "!curl -L https://raw.githubusercontent.com/andreafailla/andreafailla.github.io/main/static/uploads/data/icwsm2025.tar.gz | tar -xzv\n"
      ]
    },
    {
      "cell_type": "code",
      "execution_count": 8,
      "id": "PCfMocvd0c8S",
      "metadata": {
        "id": "PCfMocvd0c8S"
      },
      "outputs": [],
      "source": [
        "from hypergraphx.readwrite.load import load_hypergraph\n",
        "h = load_hypergraph('icwsm2025/sample.json', file_type='json')"
      ]
    },
    {
      "cell_type": "code",
      "execution_count": 9,
      "id": "75c7ffd2-6d59-44f1-ab7b-0b256f67390c",
      "metadata": {
        "colab": {
          "base_uri": "https://localhost:8080/"
        },
        "id": "75c7ffd2-6d59-44f1-ab7b-0b256f67390c",
        "outputId": "7110af99-f66a-4f20-a64f-d8311c6d39ff"
      },
      "outputs": [
        {
          "name": "stdout",
          "output_type": "stream",
          "text": [
            "Hypergraph with 1000 nodes and 1900 edges.\n",
            "Distribution of hyperedge sizes: {2: 1000, 3: 500, 4: 300, 5: 100}\n"
          ]
        }
      ],
      "source": [
        "print(h)"
      ]
    },
    {
      "cell_type": "code",
      "execution_count": 10,
      "id": "6zlkROMqKDsM",
      "metadata": {
        "colab": {
          "base_uri": "https://localhost:8080/",
          "height": 472
        },
        "id": "6zlkROMqKDsM",
        "outputId": "d6d16646-a7ec-444e-aa11-7a827e1ae623"
      },
      "outputs": [
        {
          "data": {
            "image/png": "[encoded data removed]",
            "text/plain": [
              "<Figure size 640x480 with 1 Axes>"
            ]
          },
          "metadata": {},
          "output_type": "display_data"
        }
      ],
      "source": [
        "import matplotlib.pyplot as plt\n",
        "import seaborn as sns\n",
        "\n",
        "def plot_degree_distribution(h, loglog=False):\n",
        "    cnt = h.degree_distribution()\n",
        "    deg = cnt.keys()\n",
        "    freq = cnt.values()\n",
        "    ax = sns.scatterplot(x=deg, y=freq, alpha=.6)\n",
        "    ax.set_xlabel('Degree')\n",
        "    ax.set_ylabel('Frequency')\n",
        "    ax.set_title('Degree Distribution')\n",
        "    ax.grid(alpha=.2)\n",
        "    if loglog:\n",
        "        ax.loglog()\n",
        "    plt.show()\n",
        "plot_degree_distribution(h)"
      ]
    },
    {
      "cell_type": "markdown",
      "id": "uW1axTQX-CPY",
      "metadata": {
        "id": "uW1axTQX-CPY"
      },
      "source": [
        "#### Centralities\n",
        "Pairwise graph measures can be extended to hypergraphs via the **s-analytics framework** [1].\n",
        "\n",
        "The underlying idea is that two hyperedges can intersect at any number of vertices, and two vertices can belong to any number of shared hyperedges.\n",
        "\n",
        "This concept implies that walks on a hypergraph have a *length* and a *width* `s`.  The parameter `s` controls for either:\n",
        "- the size of edge intersection, or\n",
        "- the number of shared hyperedges between each pair of consecutive vertices.\n",
        "\n",
        "[1] S.G. Aksoy, C. Joslyn, C. Ortiz Marrero, et al. *Hypernetwork science via high-order hypergraph walks*. EPJ Data Sci. 9, 16 (2020)."
      ]
    },
    {
      "cell_type": "markdown",
      "id": "7aNuqBMECmjV",
      "metadata": {
        "id": "7aNuqBMECmjV"
      },
      "source": [
        "To capture information about the size of hyperedge intersections, we can build the **line-graph projection** of a hypergraph.\n",
        "\n",
        "**Highlight**: The **line-graph projection** of an hypergraph H is a graph whose nodes correspond to the hyperedges of H, and edges corresponding to nonempty hyperedge intersections.\n",
        "\n",
        "> Image from A. Antelmi, G. Cordasco, M. Polato, V. Scarano, C. Spagnuolo, and D. Yang. 2023. *A Survey on Hypergraph Representation Learning*. ACM Comput. Surv. 56, 1, Article 24.\n",
        "\n",
        "![image.png](https://i.ibb.co/kVNXqjXJ/graphs.png)\n",
        "\n",
        "We can then compute the centrality values of the nodes in the line graph to get a measure of the importance of the hyperedges in the origin hypergraph."
      ]
    },
    {
      "cell_type": "code",
      "execution_count": 11,
      "id": "OuTKo2_JAeJ5",
      "metadata": {
        "id": "OuTKo2_JAeJ5"
      },
      "outputs": [],
      "source": [
        "from hypergraphx.representations.projections import line_graph\n",
        "lg, id_to_edge = line_graph(h)"
      ]
    },
    {
      "cell_type": "markdown",
      "id": "Yv0j6Fw0A2gC",
      "metadata": {
        "id": "Yv0j6Fw0A2gC"
      },
      "source": [
        "Then, we can compute hyperedge importance scores in the line graph with the library `networkx`:"
      ]
    },
    {
      "cell_type": "code",
      "execution_count": 12,
      "id": "qtbCJVQ8A1K2",
      "metadata": {
        "id": "qtbCJVQ8A1K2"
      },
      "outputs": [],
      "source": [
        "import networkx as nx\n",
        "cls = nx.closeness_centrality(lg)\n",
        "cls = {id_to_edge[k]: v for k, v in cls.items()} # remap edges"
      ]
    },
    {
      "cell_type": "markdown",
      "id": "FjvR5Y5YBEZY",
      "metadata": {
        "id": "FjvR5Y5YBEZY"
      },
      "source": [
        "To get the score for a hyperedge:"
      ]
    },
    {
      "cell_type": "code",
      "execution_count": 13,
      "id": "53b4e42a-f662-4d8c-9e3f-b2c187858487",
      "metadata": {
        "colab": {
          "base_uri": "https://localhost:8080/"
        },
        "id": "53b4e42a-f662-4d8c-9e3f-b2c187858487",
        "outputId": "088b3688-2f28-40f6-d78f-367c2d5bb547"
      },
      "outputs": [
        {
          "name": "stdout",
          "output_type": "stream",
          "text": [
            "my edge: (163, 283)\n",
            "Closeness centrality for (163, 283): 0.2932818532818533\n"
          ]
        }
      ],
      "source": [
        "from hypergraphx.measures.s_centralities import s_closeness\n",
        "\n",
        "my_edge = h.get_edges()[0]\n",
        "print('my edge:', my_edge)\n",
        "\n",
        "cls_1 = s_closeness(h, s=1)\n",
        "print(f\"Closeness centrality for {my_edge}: {cls_1[my_edge]}\")\n",
        "\n"
      ]
    },
    {
      "cell_type": "markdown",
      "id": "ae3a7f5f-134a-4a40-a4f5-970315a5cb5a",
      "metadata": {
        "id": "ae3a7f5f-134a-4a40-a4f5-970315a5cb5a"
      },
      "source": [
        "`Hypergraphx` provides a method to directly compute various centrality measures. You can also modify the parameter `s` to compute scores on larger overlaps:"
      ]
    },
    {
      "cell_type": "code",
      "execution_count": 14,
      "id": "21fdbc73-be1e-4a17-81c6-082b9895ba0f",
      "metadata": {
        "colab": {
          "base_uri": "https://localhost:8080/"
        },
        "id": "21fdbc73-be1e-4a17-81c6-082b9895ba0f",
        "outputId": "fe1ee104-f329-405c-d637-1ac441bc0d36"
      },
      "outputs": [
        {
          "name": "stdout",
          "output_type": "stream",
          "text": [
            "Closeness 2-centrality for (163, 283): 0.0\n"
          ]
        }
      ],
      "source": [
        "from hypergraphx.measures.s_centralities import s_closeness\n",
        "cls_2 = s_closeness(h, s=2)\n",
        "print(f\"Closeness 2-centrality for {my_edge}: {cls_2[my_edge]}\")"
      ]
    },
    {
      "cell_type": "markdown",
      "id": "3ZkSsiQ4EF2b",
      "metadata": {
        "id": "3ZkSsiQ4EF2b"
      },
      "source": [
        "We can get a measure of node importance by applying the same approach on the dual representation of the hypergraph.\n",
        "\n",
        "**Highlight**: The **dual** H* of a hypergraph H is the hypergraph constructed by swapping the roles of nodes and hyperedges.\n",
        "\n",
        "This is implemented in the most recent versions of `hgx`, but not in the one we are using. Here is a function that compute node centralities on hypergraphs:\n"
      ]
    },
    {
      "cell_type": "code",
      "execution_count": 15,
      "id": "RiEhsqFMEFjK",
      "metadata": {
        "id": "RiEhsqFMEFjK"
      },
      "outputs": [],
      "source": [
        "def dual_hypergraph(h: hgx.Hypergraph) -> hgx.Hypergraph:\n",
        "    \"\"\"\n",
        "    Returns the dual hypergraph of the input hypergraph,\n",
        "    and a dictionary mapping dual edges to original nodes.\n",
        "    \"\"\"\n",
        "    # label the original edges so we can use them as “nodes” in the dual\n",
        "    e2label = {e: f'e{idx}' for idx, e in enumerate(h.get_edges())}\n",
        "\n",
        "    # build the dual edge list: for every original node,\n",
        "    # collect all original edges that contain it\n",
        "    dualedges_to_node = dict()\n",
        "    for v in h.get_nodes():\n",
        "        incident = tuple(sorted([e2label[e] for e in h.get_incident_edges(node=v)]))\n",
        "        # ignore isolated vertices (would give empty hyper-edges)\n",
        "        if incident:\n",
        "            dualedges_to_node[incident] = v\n",
        "\n",
        "    dual = hgx.Hypergraph(edge_list=list(dualedges_to_node.keys()))\n",
        "    return dual, dualedges_to_node\n",
        "\n",
        "\n",
        "def s_closeness_nodes(h: hgx.Hypergraph, s=1) -> dict:\n",
        "  \"\"\"\n",
        "  Computes closeness centrality for each node in the hypergraph.\n",
        "  Returns a dictionary where keys are nodes and values are centrality scores.\n",
        "  \"\"\"\n",
        "  dual, eids_to_node = dual_hypergraph(h)\n",
        "  closeness = s_closeness(dual, s=s)\n",
        "  return {eids_to_node[k]: v for k, v in closeness.items()}"
      ]
    },
    {
      "cell_type": "code",
      "execution_count": 16,
      "id": "m5Dh9s_RLLXj",
      "metadata": {
        "colab": {
          "base_uri": "https://localhost:8080/"
        },
        "id": "m5Dh9s_RLLXj",
        "outputId": "f1d536e8-f931-41e8-b8bc-aaca24d1727d"
      },
      "outputs": [
        {
          "data": {
            "text/plain": [
              "0.2869088811995386"
            ]
          },
          "execution_count": 16,
          "metadata": {},
          "output_type": "execute_result"
        }
      ],
      "source": [
        "n_cls_1 = s_closeness_nodes(h)\n",
        "n_cls_1[1]"
      ]
    },
    {
      "cell_type": "markdown",
      "id": "RUTVV9CyyHVg",
      "metadata": {
        "id": "RUTVV9CyyHVg"
      },
      "source": [
        "Finally, other node centrality scores are available, such as the subhypergraph centrality defined in\n",
        "> *Estrada, E., & Rodriguez-Velazquez, J. A. (2005). Complex networks as hypergraphs. arXiv preprint physics/0505137.*"
      ]
    },
    {
      "cell_type": "code",
      "execution_count": 17,
      "id": "sx7XN2_OzBNa",
      "metadata": {
        "id": "sx7XN2_OzBNa"
      },
      "outputs": [],
      "source": [
        "from hypergraphx.measures.sub_hypergraph_centrality import subhypergraph_centrality\n",
        "\n",
        "shc = subhypergraph_centrality(h)\n",
        "# map nodes to array values\n",
        "shc = dict(zip(h.get_nodes(), shc))"
      ]
    },
    {
      "cell_type": "code",
      "execution_count": 18,
      "id": "B_1yjYYuzdLf",
      "metadata": {
        "colab": {
          "base_uri": "https://localhost:8080/"
        },
        "id": "B_1yjYYuzdLf",
        "outputId": "b6b11d47-093f-49a8-afe7-5f8ceceeaec1"
      },
      "outputs": [
        {
          "data": {
            "text/plain": [
              "np.float64(10.078958349224381)"
            ]
          },
          "execution_count": 18,
          "metadata": {},
          "output_type": "execute_result"
        }
      ],
      "source": [
        "shc[1]"
      ]
    },
    {
      "cell_type": "markdown",
      "id": "Jkxv8mlfIkDY",
      "metadata": {
        "id": "Jkxv8mlfIkDY"
      },
      "source": [
        "## Communities on Hypergraphs\n",
        "\n",
        "Besides focusing on node-level or system-level properties, sometimes researchers may be interested in analyzing the network at an \"intermediate\" granularity.\n",
        "We already (partially) explored the meso-scale organization of hypergraphs, when we focused on hyperedge sizes and centralities.\n",
        "\n",
        "If we are interested in even more coarse groupings, we can resort to community detection approaches, which exploit the structural properties of the hypernetwork to find larger groups of nodes/edges."
      ]
    },
    {
      "cell_type": "markdown",
      "id": "NfduaI2qKcE9",
      "metadata": {
        "id": "NfduaI2qKcE9"
      },
      "source": [
        "### Hyperlink Communities\n",
        "`Hypergraphx` implements some algorithms to identify communities on hypergraphs. Here, we will focus on the simplest one, the **Hyperlink Communities algorithm**, which is described in:\n",
        "> *Lotito, Q. F., Musciotto, F., Montresor, A., & Battiston, F. (2024). Hyperlink communities in higher-order networks. Journal of Complex Networks, 12(2), cnae013.*\n",
        "\n",
        "This algorithm works in two steps:\n",
        "1. It constructs a dendrogram by aggregating hyperedges based on overlap size.\n",
        "2. It returns the partition at a given cut height (a parameter of the algorithm).\n",
        "\n",
        "Does this sound familiar? It's essentially the same approach as that of Hierachical Clustering in data mining tasks!"
      ]
    },
    {
      "cell_type": "markdown",
      "id": "rePIloVFUhMx",
      "metadata": {
        "id": "rePIloVFUhMx"
      },
      "source": [
        "As a first step, we import necessary functions and compute the dendrogram. Some information is printed by default. Note how the algorithm is only applied to the largest connected component."
      ]
    },
    {
      "cell_type": "code",
      "execution_count": 19,
      "id": "Hb_7cgeQIjPD",
      "metadata": {
        "colab": {
          "base_uri": "https://localhost:8080/"
        },
        "id": "Hb_7cgeQIjPD",
        "outputId": "1b8b2359-e09a-44a3-8c6f-270b041bd075"
      },
      "outputs": [
        {
          "name": "stdout",
          "output_type": "stream",
          "text": [
            "Hypergraph info - nodes: 1000 edges: 1900\n",
            "Subhypergraph info - nodes: 996 edges: 1900\n",
            "Computing distances\n",
            "Done 0 of 996\n",
            "Done 1 of 996\n",
            "Done 2 of 996\n",
            "Done 3 of 996\n",
            "Done 4 of 996\n",
            "Done 5 of 996\n",
            "Done 6 of 996\n",
            "Done 7 of 996\n",
            "Done 8 of 996\n",
            "Done 9 of 996\n",
            "Done 10 of 996\n",
            "Done 11 of 996\n",
            "Done 12 of 996\n",
            "Done 13 of 996\n",
            "Done 14 of 996\n",
            "Done 15 of 996\n",
            "Done 16 of 996\n",
            "Done 17 of 996\n",
            "Done 18 of 996\n",
            "Done 19 of 996\n",
            "Done 20 of 996\n",
            "Done 21 of 996\n",
            "Done 22 of 996\n",
            "Done 23 of 996\n",
            "Done 24 of 996\n",
            "Done 25 of 996\n",
            "Done 26 of 996\n",
            "Done 27 of 996\n",
            "Done 28 of 996\n",
            "Done 29 of 996\n",
            "Done 30 of 996\n",
            "Done 31 of 996\n",
            "Done 32 of 996\n",
            "Done 33 of 996\n",
            "Done 34 of 996\n",
            "Done 35 of 996\n",
            "Done 36 of 996\n",
            "Done 37 of 996\n",
            "Done 38 of 996\n",
            "Done 39 of 996\n",
            "Done 40 of 996\n",
            "Done 41 of 996\n",
            "Done 42 of 996\n",
            "Done 43 of 996\n",
            "Done 44 of 996\n",
            "Done 45 of 996\n",
            "Done 46 of 996\n",
            "Done 47 of 996\n",
            "Done 48 of 996\n",
            "Done 49 of 996\n",
            "Done 50 of 996\n",
            "Done 51 of 996\n",
            "Done 52 of 996\n",
            "Done 53 of 996\n",
            "Done 54 of 996\n",
            "Done 55 of 996\n",
            "Done 56 of 996\n",
            "Done 57 of 996\n",
            "Done 58 of 996\n",
            "Done 59 of 996\n",
            "Done 60 of 996\n",
            "Done 61 of 996\n",
            "Done 62 of 996\n",
            "Done 63 of 996\n",
            "Done 64 of 996\n",
            "Done 65 of 996\n",
            "Done 66 of 996\n",
            "Done 67 of 996\n",
            "Done 68 of 996\n",
            "Done 69 of 996\n",
            "Done 70 of 996\n",
            "Done 71 of 996\n",
            "Done 72 of 996\n",
            "Done 73 of 996\n",
            "Done 74 of 996\n",
            "Done 75 of 996\n",
            "Done 76 of 996\n",
            "Done 77 of 996\n",
            "Done 78 of 996\n",
            "Done 79 of 996\n",
            "Done 80 of 996\n",
            "Done 81 of 996\n",
            "Done 82 of 996\n",
            "Done 83 of 996\n",
            "Done 84 of 996\n",
            "Done 85 of 996\n",
            "Done 86 of 996\n",
            "Done 87 of 996\n",
            "Done 88 of 996\n",
            "Done 89 of 996\n",
            "Done 90 of 996\n",
            "Done 91 of 996\n",
            "Done 92 of 996\n",
            "Done 93 of 996\n",
            "Done 94 of 996\n",
            "Done 95 of 996\n",
            "Done 96 of 996\n",
            "Done 97 of 996\n",
            "Done 98 of 996\n",
            "Done 99 of 996\n",
            "Done 100 of 996\n",
            "Done 101 of 996\n",
            "Done 102 of 996\n",
            "Done 103 of 996\n",
            "Done 104 of 996\n",
            "Done 105 of 996\n",
            "Done 106 of 996\n",
            "Done 107 of 996\n",
            "Done 108 of 996\n",
            "Done 109 of 996\n",
            "Done 110 of 996\n",
            "Done 111 of 996\n",
            "Done 112 of 996\n",
            "Done 113 of 996\n",
            "Done 114 of 996\n",
            "Done 115 of 996\n",
            "Done 116 of 996\n",
            "Done 117 of 996\n",
            "Done 118 of 996\n",
            "Done 119 of 996\n",
            "Done 120 of 996\n",
            "Done 121 of 996\n",
            "Done 122 of 996\n",
            "Done 123 of 996\n",
            "Done 124 of 996\n",
            "Done 125 of 996\n",
            "Done 126 of 996\n",
            "Done 127 of 996\n",
            "Done 128 of 996\n",
            "Done 129 of 996\n",
            "Done 130 of 996\n",
            "Done 131 of 996\n",
            "Done 132 of 996\n",
            "Done 133 of 996\n",
            "Done 134 of 996\n",
            "Done 135 of 996\n",
            "Done 136 of 996\n",
            "Done 137 of 996\n",
            "Done 138 of 996\n",
            "Done 139 of 996\n",
            "Done 140 of 996\n",
            "Done 141 of 996\n",
            "Done 142 of 996\n",
            "Done 143 of 996\n",
            "Done 144 of 996\n",
            "Done 145 of 996\n",
            "Done 146 of 996\n",
            "Done 147 of 996\n",
            "Done 148 of 996\n",
            "Done 149 of 996\n",
            "Done 150 of 996\n",
            "Done 151 of 996\n",
            "Done 152 of 996\n",
            "Done 153 of 996\n",
            "Done 154 of 996\n",
            "Done 155 of 996\n",
            "Done 156 of 996\n",
            "Done 157 of 996\n",
            "Done 158 of 996\n",
            "Done 159 of 996\n",
            "Done 160 of 996\n",
            "Done 161 of 996\n",
            "Done 162 of 996\n",
            "Done 163 of 996\n",
            "Done 164 of 996\n",
            "Done 165 of 996\n",
            "Done 166 of 996\n",
            "Done 167 of 996\n",
            "Done 168 of 996\n",
            "Done 169 of 996\n",
            "Done 170 of 996\n",
            "Done 171 of 996\n",
            "Done 172 of 996\n",
            "Done 173 of 996\n",
            "Done 174 of 996\n",
            "Done 175 of 996\n",
            "Done 176 of 996\n",
            "Done 177 of 996\n",
            "Done 178 of 996\n",
            "Done 179 of 996\n",
            "Done 180 of 996\n",
            "Done 181 of 996\n",
            "Done 182 of 996\n",
            "Done 183 of 996\n",
            "Done 184 of 996\n",
            "Done 185 of 996\n",
            "Done 186 of 996\n",
            "Done 187 of 996\n",
            "Done 188 of 996\n",
            "Done 189 of 996\n",
            "Done 190 of 996\n",
            "Done 191 of 996\n",
            "Done 192 of 996\n",
            "Done 193 of 996\n",
            "Done 194 of 996\n",
            "Done 195 of 996\n",
            "Done 196 of 996\n",
            "Done 197 of 996\n",
            "Done 198 of 996\n",
            "Done 199 of 996\n",
            "Done 200 of 996\n",
            "Done 201 of 996\n",
            "Done 202 of 996\n",
            "Done 203 of 996\n",
            "Done 204 of 996\n",
            "Done 205 of 996\n",
            "Done 206 of 996\n",
            "Done 207 of 996\n",
            "Done 208 of 996\n",
            "Done 209 of 996\n",
            "Done 210 of 996\n",
            "Done 211 of 996\n",
            "Done 212 of 996\n",
            "Done 213 of 996\n",
            "Done 214 of 996\n",
            "Done 215 of 996\n",
            "Done 216 of 996\n",
            "Done 217 of 996\n",
            "Done 218 of 996\n",
            "Done 219 of 996\n",
            "Done 220 of 996\n",
            "Done 221 of 996\n",
            "Done 222 of 996\n",
            "Done 223 of 996\n",
            "Done 224 of 996\n",
            "Done 225 of 996\n",
            "Done 226 of 996\n",
            "Done 227 of 996\n",
            "Done 228 of 996\n",
            "Done 229 of 996\n",
            "Done 230 of 996\n",
            "Done 231 of 996\n",
            "Done 232 of 996\n",
            "Done 233 of 996\n",
            "Done 234 of 996\n",
            "Done 235 of 996\n",
            "Done 236 of 996\n",
            "Done 237 of 996\n",
            "Done 238 of 996\n",
            "Done 239 of 996\n",
            "Done 240 of 996\n",
            "Done 241 of 996\n",
            "Done 242 of 996\n",
            "Done 243 of 996\n",
            "Done 244 of 996\n",
            "Done 245 of 996\n",
            "Done 246 of 996\n",
            "Done 247 of 996\n",
            "Done 248 of 996\n",
            "Done 249 of 996\n",
            "Done 250 of 996\n",
            "Done 251 of 996\n",
            "Done 252 of 996\n",
            "Done 253 of 996\n",
            "Done 254 of 996\n",
            "Done 255 of 996\n",
            "Done 256 of 996\n",
            "Done 257 of 996\n",
            "Done 258 of 996\n",
            "Done 259 of 996\n",
            "Done 260 of 996\n",
            "Done 261 of 996\n",
            "Done 262 of 996\n",
            "Done 263 of 996\n",
            "Done 264 of 996\n",
            "Done 265 of 996\n",
            "Done 266 of 996\n",
            "Done 267 of 996\n",
            "Done 268 of 996\n",
            "Done 269 of 996\n",
            "Done 270 of 996\n",
            "Done 271 of 996\n",
            "Done 272 of 996\n",
            "Done 273 of 996\n",
            "Done 274 of 996\n",
            "Done 275 of 996\n",
            "Done 276 of 996\n",
            "Done 277 of 996\n",
            "Done 278 of 996\n",
            "Done 279 of 996\n",
            "Done 280 of 996\n",
            "Done 281 of 996\n",
            "Done 282 of 996\n",
            "Done 283 of 996\n",
            "Done 284 of 996\n",
            "Done 285 of 996\n",
            "Done 286 of 996\n",
            "Done 287 of 996\n",
            "Done 288 of 996\n",
            "Done 289 of 996\n",
            "Done 290 of 996\n",
            "Done 291 of 996\n",
            "Done 292 of 996\n",
            "Done 293 of 996\n",
            "Done 294 of 996\n",
            "Done 295 of 996\n",
            "Done 296 of 996\n",
            "Done 297 of 996\n",
            "Done 298 of 996\n",
            "Done 299 of 996\n",
            "Done 300 of 996\n",
            "Done 301 of 996\n",
            "Done 302 of 996\n",
            "Done 303 of 996\n",
            "Done 304 of 996\n",
            "Done 305 of 996\n",
            "Done 306 of 996\n",
            "Done 307 of 996\n",
            "Done 308 of 996\n",
            "Done 309 of 996\n",
            "Done 310 of 996\n",
            "Done 311 of 996\n",
            "Done 312 of 996\n",
            "Done 313 of 996\n",
            "Done 314 of 996\n",
            "Done 315 of 996\n",
            "Done 316 of 996\n",
            "Done 317 of 996\n",
            "Done 318 of 996\n",
            "Done 319 of 996\n",
            "Done 320 of 996\n",
            "Done 321 of 996\n",
            "Done 322 of 996\n",
            "Done 323 of 996\n",
            "Done 324 of 996\n",
            "Done 325 of 996\n",
            "Done 326 of 996\n",
            "Done 327 of 996\n",
            "Done 328 of 996\n",
            "Done 329 of 996\n",
            "Done 330 of 996\n",
            "Done 331 of 996\n",
            "Done 332 of 996\n",
            "Done 333 of 996\n",
            "Done 334 of 996\n",
            "Done 335 of 996\n",
            "Done 336 of 996\n",
            "Done 337 of 996\n",
            "Done 338 of 996\n",
            "Done 339 of 996\n",
            "Done 340 of 996\n",
            "Done 341 of 996\n",
            "Done 342 of 996\n",
            "Done 343 of 996\n",
            "Done 344 of 996\n",
            "Done 345 of 996\n",
            "Done 346 of 996\n",
            "Done 347 of 996\n",
            "Done 348 of 996\n",
            "Done 349 of 996\n",
            "Done 350 of 996\n",
            "Done 351 of 996\n",
            "Done 352 of 996\n",
            "Done 353 of 996\n",
            "Done 354 of 996\n",
            "Done 355 of 996\n",
            "Done 356 of 996\n",
            "Done 357 of 996\n",
            "Done 358 of 996\n",
            "Done 359 of 996\n",
            "Done 360 of 996\n",
            "Done 361 of 996\n",
            "Done 362 of 996\n",
            "Done 363 of 996\n",
            "Done 364 of 996\n",
            "Done 365 of 996\n",
            "Done 366 of 996\n",
            "Done 367 of 996\n",
            "Done 368 of 996\n",
            "Done 369 of 996\n",
            "Done 370 of 996\n",
            "Done 371 of 996\n",
            "Done 372 of 996\n",
            "Done 373 of 996\n",
            "Done 374 of 996\n",
            "Done 375 of 996\n",
            "Done 376 of 996\n",
            "Done 377 of 996\n",
            "Done 378 of 996\n",
            "Done 379 of 996\n",
            "Done 380 of 996\n",
            "Done 381 of 996\n",
            "Done 382 of 996\n",
            "Done 383 of 996\n",
            "Done 384 of 996\n",
            "Done 385 of 996\n",
            "Done 386 of 996\n",
            "Done 387 of 996\n",
            "Done 388 of 996\n",
            "Done 389 of 996\n",
            "Done 390 of 996\n",
            "Done 391 of 996\n",
            "Done 392 of 996\n",
            "Done 393 of 996\n",
            "Done 394 of 996\n",
            "Done 395 of 996\n",
            "Done 396 of 996\n",
            "Done 397 of 996\n",
            "Done 398 of 996\n",
            "Done 399 of 996\n",
            "Done 400 of 996\n",
            "Done 401 of 996\n",
            "Done 402 of 996\n",
            "Done 403 of 996\n",
            "Done 404 of 996\n",
            "Done 405 of 996\n",
            "Done 406 of 996\n",
            "Done 407 of 996\n",
            "Done 408 of 996\n",
            "Done 409 of 996\n",
            "Done 410 of 996\n",
            "Done 411 of 996\n",
            "Done 412 of 996\n",
            "Done 413 of 996\n",
            "Done 414 of 996\n",
            "Done 415 of 996\n",
            "Done 416 of 996\n",
            "Done 417 of 996\n",
            "Done 418 of 996\n",
            "Done 419 of 996\n",
            "Done 420 of 996\n",
            "Done 421 of 996\n",
            "Done 422 of 996\n",
            "Done 423 of 996\n",
            "Done 424 of 996\n",
            "Done 425 of 996\n",
            "Done 426 of 996\n",
            "Done 427 of 996\n",
            "Done 428 of 996\n",
            "Done 429 of 996\n",
            "Done 430 of 996\n",
            "Done 431 of 996\n",
            "Done 432 of 996\n",
            "Done 433 of 996\n",
            "Done 434 of 996\n",
            "Done 435 of 996\n",
            "Done 436 of 996\n",
            "Done 437 of 996\n",
            "Done 438 of 996\n",
            "Done 439 of 996\n",
            "Done 440 of 996\n",
            "Done 441 of 996\n",
            "Done 442 of 996\n",
            "Done 443 of 996\n",
            "Done 444 of 996\n",
            "Done 445 of 996\n",
            "Done 446 of 996\n",
            "Done 447 of 996\n",
            "Done 448 of 996\n",
            "Done 449 of 996\n",
            "Done 450 of 996\n",
            "Done 451 of 996\n",
            "Done 452 of 996\n",
            "Done 453 of 996\n",
            "Done 454 of 996\n",
            "Done 455 of 996\n",
            "Done 456 of 996\n",
            "Done 457 of 996\n",
            "Done 458 of 996\n",
            "Done 459 of 996\n",
            "Done 460 of 996\n",
            "Done 461 of 996\n",
            "Done 462 of 996\n",
            "Done 463 of 996\n",
            "Done 464 of 996\n",
            "Done 465 of 996\n",
            "Done 466 of 996\n",
            "Done 467 of 996\n",
            "Done 468 of 996\n",
            "Done 469 of 996\n",
            "Done 470 of 996\n",
            "Done 471 of 996\n",
            "Done 472 of 996\n",
            "Done 473 of 996\n",
            "Done 474 of 996\n",
            "Done 475 of 996\n",
            "Done 476 of 996\n",
            "Done 477 of 996\n",
            "Done 478 of 996\n",
            "Done 479 of 996\n",
            "Done 480 of 996\n",
            "Done 481 of 996\n",
            "Done 482 of 996\n",
            "Done 483 of 996\n",
            "Done 484 of 996\n",
            "Done 485 of 996\n",
            "Done 486 of 996\n",
            "Done 487 of 996\n",
            "Done 488 of 996\n",
            "Done 489 of 996\n",
            "Done 490 of 996\n",
            "Done 491 of 996\n",
            "Done 492 of 996\n",
            "Done 493 of 996\n",
            "Done 494 of 996\n",
            "Done 495 of 996\n",
            "Done 496 of 996\n",
            "Done 497 of 996\n",
            "Done 498 of 996\n",
            "Done 499 of 996\n",
            "Done 500 of 996\n",
            "Done 501 of 996\n",
            "Done 502 of 996\n",
            "Done 503 of 996\n",
            "Done 504 of 996\n",
            "Done 505 of 996\n",
            "Done 506 of 996\n",
            "Done 507 of 996\n",
            "Done 508 of 996\n",
            "Done 509 of 996\n",
            "Done 510 of 996\n",
            "Done 511 of 996\n",
            "Done 512 of 996\n",
            "Done 513 of 996\n",
            "Done 514 of 996\n",
            "Done 515 of 996\n",
            "Done 516 of 996\n",
            "Done 517 of 996\n",
            "Done 518 of 996\n",
            "Done 519 of 996\n",
            "Done 520 of 996\n",
            "Done 521 of 996\n",
            "Done 522 of 996\n",
            "Done 523 of 996\n",
            "Done 524 of 996\n",
            "Done 525 of 996\n",
            "Done 526 of 996\n",
            "Done 527 of 996\n",
            "Done 528 of 996\n",
            "Done 529 of 996\n",
            "Done 530 of 996\n",
            "Done 531 of 996\n",
            "Done 532 of 996\n",
            "Done 533 of 996\n",
            "Done 534 of 996\n",
            "Done 535 of 996\n",
            "Done 536 of 996\n",
            "Done 537 of 996\n",
            "Done 538 of 996\n",
            "Done 539 of 996\n",
            "Done 540 of 996\n",
            "Done 541 of 996\n",
            "Done 542 of 996\n",
            "Done 543 of 996\n",
            "Done 544 of 996\n",
            "Done 545 of 996\n",
            "Done 546 of 996\n",
            "Done 547 of 996\n",
            "Done 548 of 996\n",
            "Done 549 of 996\n",
            "Done 550 of 996\n",
            "Done 551 of 996\n",
            "Done 552 of 996\n",
            "Done 553 of 996\n",
            "Done 554 of 996\n",
            "Done 555 of 996\n",
            "Done 556 of 996\n",
            "Done 557 of 996\n",
            "Done 558 of 996\n",
            "Done 559 of 996\n",
            "Done 560 of 996\n",
            "Done 561 of 996\n",
            "Done 562 of 996\n",
            "Done 563 of 996\n",
            "Done 564 of 996\n",
            "Done 565 of 996\n",
            "Done 566 of 996\n",
            "Done 567 of 996\n",
            "Done 568 of 996\n",
            "Done 569 of 996\n",
            "Done 570 of 996\n",
            "Done 571 of 996\n",
            "Done 572 of 996\n",
            "Done 573 of 996\n",
            "Done 574 of 996\n",
            "Done 575 of 996\n",
            "Done 576 of 996\n",
            "Done 577 of 996\n",
            "Done 578 of 996\n",
            "Done 579 of 996\n",
            "Done 580 of 996\n",
            "Done 581 of 996\n",
            "Done 582 of 996\n",
            "Done 583 of 996\n",
            "Done 584 of 996\n",
            "Done 585 of 996\n",
            "Done 586 of 996\n",
            "Done 587 of 996\n",
            "Done 588 of 996\n",
            "Done 589 of 996\n",
            "Done 590 of 996\n",
            "Done 591 of 996\n",
            "Done 592 of 996\n",
            "Done 593 of 996\n",
            "Done 594 of 996\n",
            "Done 595 of 996\n",
            "Done 596 of 996\n",
            "Done 597 of 996\n",
            "Done 598 of 996\n",
            "Done 599 of 996\n",
            "Done 600 of 996\n",
            "Done 601 of 996\n",
            "Done 602 of 996\n",
            "Done 603 of 996\n",
            "Done 604 of 996\n",
            "Done 605 of 996\n",
            "Done 606 of 996\n",
            "Done 607 of 996\n",
            "Done 608 of 996\n",
            "Done 609 of 996\n",
            "Done 610 of 996\n",
            "Done 611 of 996\n",
            "Done 612 of 996\n",
            "Done 613 of 996\n",
            "Done 614 of 996\n",
            "Done 615 of 996\n",
            "Done 616 of 996\n",
            "Done 617 of 996\n",
            "Done 618 of 996\n",
            "Done 619 of 996\n",
            "Done 620 of 996\n",
            "Done 621 of 996\n",
            "Done 622 of 996\n",
            "Done 623 of 996\n",
            "Done 624 of 996\n",
            "Done 625 of 996\n",
            "Done 626 of 996\n",
            "Done 627 of 996\n",
            "Done 628 of 996\n",
            "Done 629 of 996\n",
            "Done 630 of 996\n",
            "Done 631 of 996\n",
            "Done 632 of 996\n",
            "Done 633 of 996\n",
            "Done 634 of 996\n",
            "Done 635 of 996\n",
            "Done 636 of 996\n",
            "Done 637 of 996\n",
            "Done 638 of 996\n",
            "Done 639 of 996\n",
            "Done 640 of 996\n",
            "Done 641 of 996\n",
            "Done 642 of 996\n",
            "Done 643 of 996\n",
            "Done 644 of 996\n",
            "Done 645 of 996\n",
            "Done 646 of 996\n",
            "Done 647 of 996\n",
            "Done 648 of 996\n",
            "Done 649 of 996\n",
            "Done 650 of 996\n",
            "Done 651 of 996\n",
            "Done 652 of 996\n",
            "Done 653 of 996\n",
            "Done 654 of 996\n",
            "Done 655 of 996\n",
            "Done 656 of 996\n",
            "Done 657 of 996\n",
            "Done 658 of 996\n",
            "Done 659 of 996\n",
            "Done 660 of 996\n",
            "Done 661 of 996\n",
            "Done 662 of 996\n",
            "Done 663 of 996\n",
            "Done 664 of 996\n",
            "Done 665 of 996\n",
            "Done 666 of 996\n",
            "Done 667 of 996\n",
            "Done 668 of 996\n",
            "Done 669 of 996\n",
            "Done 670 of 996\n",
            "Done 671 of 996\n",
            "Done 672 of 996\n",
            "Done 673 of 996\n",
            "Done 674 of 996\n",
            "Done 675 of 996\n",
            "Done 676 of 996\n",
            "Done 677 of 996\n",
            "Done 678 of 996\n",
            "Done 679 of 996\n",
            "Done 680 of 996\n",
            "Done 681 of 996\n",
            "Done 682 of 996\n",
            "Done 683 of 996\n",
            "Done 684 of 996\n",
            "Done 685 of 996\n",
            "Done 686 of 996\n",
            "Done 687 of 996\n",
            "Done 688 of 996\n",
            "Done 689 of 996\n",
            "Done 690 of 996\n",
            "Done 691 of 996\n",
            "Done 692 of 996\n",
            "Done 693 of 996\n",
            "Done 694 of 996\n",
            "Done 695 of 996\n",
            "Done 696 of 996\n",
            "Done 697 of 996\n",
            "Done 698 of 996\n",
            "Done 699 of 996\n",
            "Done 700 of 996\n",
            "Done 701 of 996\n",
            "Done 702 of 996\n",
            "Done 703 of 996\n",
            "Done 704 of 996\n",
            "Done 705 of 996\n",
            "Done 706 of 996\n",
            "Done 707 of 996\n",
            "Done 708 of 996\n",
            "Done 709 of 996\n",
            "Done 710 of 996\n",
            "Done 711 of 996\n",
            "Done 712 of 996\n",
            "Done 713 of 996\n",
            "Done 714 of 996\n",
            "Done 715 of 996\n",
            "Done 716 of 996\n",
            "Done 717 of 996\n",
            "Done 718 of 996\n",
            "Done 719 of 996\n",
            "Done 720 of 996\n",
            "Done 721 of 996\n",
            "Done 722 of 996\n",
            "Done 723 of 996\n",
            "Done 724 of 996\n",
            "Done 725 of 996\n",
            "Done 726 of 996\n",
            "Done 727 of 996\n",
            "Done 728 of 996\n",
            "Done 729 of 996\n",
            "Done 730 of 996\n",
            "Done 731 of 996\n",
            "Done 732 of 996\n",
            "Done 733 of 996\n",
            "Done 734 of 996\n",
            "Done 735 of 996\n",
            "Done 736 of 996\n",
            "Done 737 of 996\n",
            "Done 738 of 996\n",
            "Done 739 of 996\n",
            "Done 740 of 996\n",
            "Done 741 of 996\n",
            "Done 742 of 996\n",
            "Done 743 of 996\n",
            "Done 744 of 996\n",
            "Done 745 of 996\n",
            "Done 746 of 996\n",
            "Done 747 of 996\n",
            "Done 748 of 996\n",
            "Done 749 of 996\n",
            "Done 750 of 996\n",
            "Done 751 of 996\n",
            "Done 752 of 996\n",
            "Done 753 of 996\n",
            "Done 754 of 996\n",
            "Done 755 of 996\n",
            "Done 756 of 996\n",
            "Done 757 of 996\n",
            "Done 758 of 996\n",
            "Done 759 of 996\n",
            "Done 760 of 996\n",
            "Done 761 of 996\n",
            "Done 762 of 996\n",
            "Done 763 of 996\n",
            "Done 764 of 996\n",
            "Done 765 of 996\n",
            "Done 766 of 996\n",
            "Done 767 of 996\n",
            "Done 768 of 996\n",
            "Done 769 of 996\n",
            "Done 770 of 996\n",
            "Done 771 of 996\n",
            "Done 772 of 996\n",
            "Done 773 of 996\n",
            "Done 774 of 996\n",
            "Done 775 of 996\n",
            "Done 776 of 996\n",
            "Done 777 of 996\n",
            "Done 778 of 996\n",
            "Done 779 of 996\n",
            "Done 780 of 996\n",
            "Done 781 of 996\n",
            "Done 782 of 996\n",
            "Done 783 of 996\n",
            "Done 784 of 996\n",
            "Done 785 of 996\n",
            "Done 786 of 996\n",
            "Done 787 of 996\n",
            "Done 788 of 996\n",
            "Done 789 of 996\n",
            "Done 790 of 996\n",
            "Done 791 of 996\n",
            "Done 792 of 996\n",
            "Done 793 of 996\n",
            "Done 794 of 996\n",
            "Done 795 of 996\n",
            "Done 796 of 996\n",
            "Done 797 of 996\n",
            "Done 798 of 996\n",
            "Done 799 of 996\n",
            "Done 800 of 996\n",
            "Done 801 of 996\n",
            "Done 802 of 996\n",
            "Done 803 of 996\n",
            "Done 804 of 996\n",
            "Done 805 of 996\n",
            "Done 806 of 996\n",
            "Done 807 of 996\n",
            "Done 808 of 996\n",
            "Done 809 of 996\n",
            "Done 810 of 996\n",
            "Done 811 of 996\n",
            "Done 812 of 996\n",
            "Done 813 of 996\n",
            "Done 814 of 996\n",
            "Done 815 of 996\n",
            "Done 816 of 996\n",
            "Done 817 of 996\n",
            "Done 818 of 996\n",
            "Done 819 of 996\n",
            "Done 820 of 996\n",
            "Done 821 of 996\n",
            "Done 822 of 996\n",
            "Done 823 of 996\n",
            "Done 824 of 996\n",
            "Done 825 of 996\n",
            "Done 826 of 996\n",
            "Done 827 of 996\n",
            "Done 828 of 996\n",
            "Done 829 of 996\n",
            "Done 830 of 996\n",
            "Done 831 of 996\n",
            "Done 832 of 996\n",
            "Done 833 of 996\n",
            "Done 834 of 996\n",
            "Done 835 of 996\n",
            "Done 836 of 996\n",
            "Done 837 of 996\n",
            "Done 838 of 996\n",
            "Done 839 of 996\n",
            "Done 840 of 996\n",
            "Done 841 of 996\n",
            "Done 842 of 996\n",
            "Done 843 of 996\n",
            "Done 844 of 996\n",
            "Done 845 of 996\n",
            "Done 846 of 996\n",
            "Done 847 of 996\n",
            "Done 848 of 996\n",
            "Done 849 of 996\n",
            "Done 850 of 996\n",
            "Done 851 of 996\n",
            "Done 852 of 996\n",
            "Done 853 of 996\n",
            "Done 854 of 996\n",
            "Done 855 of 996\n",
            "Done 856 of 996\n",
            "Done 857 of 996\n",
            "Done 858 of 996\n",
            "Done 859 of 996\n",
            "Done 860 of 996\n",
            "Done 861 of 996\n",
            "Done 862 of 996\n",
            "Done 863 of 996\n",
            "Done 864 of 996\n",
            "Done 865 of 996\n",
            "Done 866 of 996\n",
            "Done 867 of 996\n",
            "Done 868 of 996\n",
            "Done 869 of 996\n",
            "Done 870 of 996\n",
            "Done 871 of 996\n",
            "Done 872 of 996\n",
            "Done 873 of 996\n",
            "Done 874 of 996\n",
            "Done 875 of 996\n",
            "Done 876 of 996\n",
            "Done 877 of 996\n",
            "Done 878 of 996\n",
            "Done 879 of 996\n",
            "Done 880 of 996\n",
            "Done 881 of 996\n",
            "Done 882 of 996\n",
            "Done 883 of 996\n",
            "Done 884 of 996\n",
            "Done 885 of 996\n",
            "Done 886 of 996\n",
            "Done 887 of 996\n",
            "Done 888 of 996\n",
            "Done 889 of 996\n",
            "Done 890 of 996\n",
            "Done 891 of 996\n",
            "Done 892 of 996\n",
            "Done 893 of 996\n",
            "Done 894 of 996\n",
            "Done 895 of 996\n",
            "Done 896 of 996\n",
            "Done 897 of 996\n",
            "Done 898 of 996\n",
            "Done 899 of 996\n",
            "Done 900 of 996\n",
            "Done 901 of 996\n",
            "Done 902 of 996\n",
            "Done 903 of 996\n",
            "Done 904 of 996\n",
            "Done 905 of 996\n",
            "Done 906 of 996\n",
            "Done 907 of 996\n",
            "Done 908 of 996\n",
            "Done 909 of 996\n",
            "Done 910 of 996\n",
            "Done 911 of 996\n",
            "Done 912 of 996\n",
            "Done 913 of 996\n",
            "Done 914 of 996\n",
            "Done 915 of 996\n",
            "Done 916 of 996\n",
            "Done 917 of 996\n",
            "Done 918 of 996\n",
            "Done 919 of 996\n",
            "Done 920 of 996\n",
            "Done 921 of 996\n",
            "Done 922 of 996\n",
            "Done 923 of 996\n",
            "Done 924 of 996\n",
            "Done 925 of 996\n",
            "Done 926 of 996\n",
            "Done 927 of 996\n",
            "Done 928 of 996\n",
            "Done 929 of 996\n",
            "Done 930 of 996\n",
            "Done 931 of 996\n",
            "Done 932 of 996\n",
            "Done 933 of 996\n",
            "Done 934 of 996\n",
            "Done 935 of 996\n",
            "Done 936 of 996\n",
            "Done 937 of 996\n",
            "Done 938 of 996\n",
            "Done 939 of 996\n",
            "Done 940 of 996\n",
            "Done 941 of 996\n",
            "Done 942 of 996\n",
            "Done 943 of 996\n",
            "Done 944 of 996\n",
            "Done 945 of 996\n",
            "Done 946 of 996\n",
            "Done 947 of 996\n",
            "Done 948 of 996\n",
            "Done 949 of 996\n",
            "Done 950 of 996\n",
            "Done 951 of 996\n",
            "Done 952 of 996\n",
            "Done 953 of 996\n",
            "Done 954 of 996\n",
            "Done 955 of 996\n",
            "Done 956 of 996\n",
            "Done 957 of 996\n",
            "Done 958 of 996\n",
            "Done 959 of 996\n",
            "Done 960 of 996\n",
            "Done 961 of 996\n",
            "Done 962 of 996\n",
            "Done 963 of 996\n",
            "Done 964 of 996\n",
            "Done 965 of 996\n",
            "Done 966 of 996\n",
            "Done 967 of 996\n",
            "Done 968 of 996\n",
            "Done 969 of 996\n",
            "Done 970 of 996\n",
            "Done 971 of 996\n",
            "Done 972 of 996\n",
            "Done 973 of 996\n",
            "Done 974 of 996\n",
            "Done 975 of 996\n",
            "Done 976 of 996\n",
            "Done 977 of 996\n",
            "Done 978 of 996\n",
            "Done 979 of 996\n",
            "Done 980 of 996\n",
            "Done 981 of 996\n",
            "Done 982 of 996\n",
            "Done 983 of 996\n",
            "Done 984 of 996\n",
            "Done 985 of 996\n",
            "Done 986 of 996\n",
            "Done 987 of 996\n",
            "Done 988 of 996\n",
            "Done 989 of 996\n",
            "Done 990 of 996\n",
            "Done 991 of 996\n",
            "Done 992 of 996\n",
            "Done 993 of 996\n",
            "Done 994 of 996\n",
            "Done 995 of 996\n",
            "dist computed\n"
          ]
        }
      ],
      "source": [
        "from hypergraphx.communities.hyperlink_comm.hyperlink_communities import \\\n",
        "  hyperlink_communities, get_num_hyperlink_communties, overlapping_communities\n",
        "\n",
        "dendrogram = hyperlink_communities(h)"
      ]
    },
    {
      "cell_type": "markdown",
      "id": "h344tyjyUzoy",
      "metadata": {
        "id": "h344tyjyUzoy"
      },
      "source": [
        "To understand where to perform the cut, we can try different heights and compute the number of resulting communities at that height."
      ]
    },
    {
      "cell_type": "code",
      "execution_count": 20,
      "id": "T_k0QSAZMxZM",
      "metadata": {
        "id": "T_k0QSAZMxZM"
      },
      "outputs": [],
      "source": [
        "nums = []\n",
        "cuts = [0.25, 0.5, 0.75,\n",
        "        0.80, 0.85, 0.90,\n",
        "        0.95, 0.99, 0.999]\n",
        "for cut_height in cuts:\n",
        "  nums.append(get_num_hyperlink_communties(dendrogram, cut_height))"
      ]
    },
    {
      "cell_type": "code",
      "execution_count": 21,
      "id": "xtIh6XiKM7Tu",
      "metadata": {
        "colab": {
          "base_uri": "https://localhost:8080/"
        },
        "id": "xtIh6XiKM7Tu",
        "outputId": "7de45759-a937-4505-c7fa-042a239f381f"
      },
      "outputs": [
        {
          "data": {
            "text/plain": [
              "{0.25: 1900,\n",
              " 0.5: 1892,\n",
              " 0.75: 1006,\n",
              " 0.8: 825,\n",
              " 0.85: 510,\n",
              " 0.9: 462,\n",
              " 0.95: 308,\n",
              " 0.99: 117,\n",
              " 0.999: 11}"
            ]
          },
          "execution_count": 21,
          "metadata": {},
          "output_type": "execute_result"
        }
      ],
      "source": [
        "dict(zip(cuts, nums))"
      ]
    },
    {
      "cell_type": "markdown",
      "id": "PvpBnRBKVEjy",
      "metadata": {
        "id": "PvpBnRBKVEjy"
      },
      "source": [
        "Then, we compute the actual communities with the following:"
      ]
    },
    {
      "cell_type": "code",
      "execution_count": 22,
      "id": "2mDobRgPMMV-",
      "metadata": {
        "id": "2mDobRgPMMV-"
      },
      "outputs": [],
      "source": [
        "communities = overlapping_communities(h, dendrogram, cut_height=0.999)"
      ]
    },
    {
      "cell_type": "markdown",
      "id": "foGW-M_dOu99",
      "metadata": {
        "id": "foGW-M_dOu99"
      },
      "source": [
        "This function outputs a dictionary where:\n",
        "- Keys are the nodes, and\n",
        "- Values are the list of communities the node is part of."
      ]
    },
    {
      "cell_type": "markdown",
      "id": "Bbjtdb6VVNww",
      "metadata": {
        "id": "Bbjtdb6VVNww"
      },
      "source": [
        "Note that this is an overlapping community detection method. This means that nodes can be part of multiple communities at the same time. The following function visualizes the distribution of community memberships across nodes."
      ]
    },
    {
      "cell_type": "code",
      "execution_count": 23,
      "id": "kp_Em0W_NwO7",
      "metadata": {
        "colab": {
          "base_uri": "https://localhost:8080/",
          "height": 472
        },
        "id": "kp_Em0W_NwO7",
        "outputId": "a6769cdf-6e50-4ce7-b8ba-805cad798deb"
      },
      "outputs": [
        {
          "data": {
            "image/png": "[encoded data removed]",
            "text/plain": [
              "<Figure size 640x480 with 1 Axes>"
            ]
          },
          "metadata": {},
          "output_type": "display_data"
        }
      ],
      "source": [
        "import matplotlib.pyplot as plt\n",
        "import seaborn as sns\n",
        "def membership_distribution(communities):\n",
        "  ms = [len(c) for c in communities.values()]\n",
        "  ax = sns.histplot(ms)\n",
        "  ax.set_xlabel('#Memberships')\n",
        "  ax.set_ylabel('Frequency')\n",
        "  ax.set_title('Community Membership Distribution')\n",
        "  ax.grid(alpha=.2)\n",
        "\n",
        "\n",
        "membership_distribution(communities)"
      ]
    },
    {
      "cell_type": "markdown",
      "id": "xbdVL4XEVqeq",
      "metadata": {
        "id": "xbdVL4XEVqeq"
      },
      "source": [
        "What about community sizes?"
      ]
    },
    {
      "cell_type": "code",
      "execution_count": 24,
      "id": "bBHOkXD8POqB",
      "metadata": {
        "colab": {
          "base_uri": "https://localhost:8080/",
          "height": 472
        },
        "id": "bBHOkXD8POqB",
        "outputId": "72646ea5-bd4b-4b81-aa00-c20f862c6d72"
      },
      "outputs": [
        {
          "data": {
            "image/png": "[encoded data removed]",
            "text/plain": [
              "<Figure size 640x480 with 1 Axes>"
            ]
          },
          "metadata": {},
          "output_type": "display_data"
        }
      ],
      "source": [
        "def community_size_distribution(communities):\n",
        "  com_to_nodes = {}\n",
        "  for node, coms in communities.items():\n",
        "    for com in coms:\n",
        "      if com not in com_to_nodes:\n",
        "        com_to_nodes[com] = []\n",
        "      com_to_nodes[com].append(node)\n",
        "  sizes = [len(com_to_nodes[com]) for com in com_to_nodes]\n",
        "  ax = sns.histplot(sizes)\n",
        "  ax.set_xlabel('Size')\n",
        "  ax.set_ylabel('Frequency')\n",
        "  ax.set_title('Community Size Distribution')\n",
        "  ax.grid(alpha=.2)\n",
        "\n",
        "\n",
        "community_size_distribution(communities)"
      ]
    },
    {
      "cell_type": "markdown",
      "id": "7yYcvEgGwHij",
      "metadata": {
        "id": "7yYcvEgGwHij"
      },
      "source": [
        "## Reddit\n",
        "\n",
        "Reddit (launched in 2005) is a social news aggregation, web content rating and discussion website, ranked as #9 most visited website in the world (as of Aprile 2025) with over 100 million daily active users (as of 2024).\n",
        "\n",
        "Reddit has become a golden pot for researchers thanks to the\n",
        "openness (not anymore), richness, and quality of its data [2].\n",
        "You can find collections of all reddit data online as a direct download or through torrent (https://academictorrents.com/details/ba051999301b109eab37d16f027b3f49ade2de13) thanks to the work of some researchers that have collected the data also after the controversial changes of Reddit API in April 2023.\n",
        "\n",
        "[2] A.N. Medvedev, R. Lambiotte, and J.-C. Delvenne. 2019. *The Anatomy of Reddit: An Overview of Academic Research. Springer Proceedings in Complexity, 183–204.*"
      ]
    },
    {
      "cell_type": "markdown",
      "id": "19ef585c-5b71-4ba9-b98a-c1fc71628d5b",
      "metadata": {
        "id": "19ef585c-5b71-4ba9-b98a-c1fc71628d5b"
      },
      "source": [
        "## Exercises: Political Debates on Reddit\n",
        "\n",
        "The reddit political debates dataset contains higher-order interactions emerging from political discussions during the first 2 years and a half of Donald Trump's presidency.\n",
        "\n",
        "Take a look at the file in *icwsm2025/politics-edges.txt*. The data is provided as a timestamped edgelist. Each row starts with a timestamp, followed by a space-separated list of nodes.\n",
        "\n",
        "Each timestamp in [0,4] represents a semester.\n",
        "\n",
        "The dataset was first released in \\[3\\] as a pairwise network, and its higher-order structure was analyzed in \\[4\\].\n",
        "\n",
        "> [3] *Morini, V., Pollacci, L., & Rossetti, G. (2021). Toward a standard approach for echo chamber detection: Reddit case study. Applied Sciences, 11(12), 5390.*\n",
        "\n",
        "> [4] *Failla, A., Citraro, S., & Rossetti, G. (2023). Attributed Stream Hypergraphs: temporal modeling of node-attributed high-order interactions. Applied Network Science, 8(1), 31.*"
      ]
    },
    {
      "cell_type": "code",
      "execution_count": 25,
      "id": "6062cb79-0eb6-4b48-857e-9ea83bbc0188",
      "metadata": {
        "id": "6062cb79-0eb6-4b48-857e-9ea83bbc0188"
      },
      "outputs": [],
      "source": [
        "def load_reddit_data(dataset_name, attributes=False, by_timestamp=False):\n",
        "  if not by_timestamp:\n",
        "    # res is an hypergraph\n",
        "    res = hgx.Hypergraph()\n",
        "    with open(f\"icwsm2025/{dataset_name}-edges.txt\") as f:\n",
        "      for line in f:\n",
        "        edge = [int(x) for x in line.strip().split()[1:]]\n",
        "        res.add_edge(edge)\n",
        "    if attributes:\n",
        "      with open(f\"icwsm2025/{dataset_name}-labels.csv\") as f:\n",
        "        labels = {}\n",
        "        for line in f:\n",
        "          n, t, l = line.strip().split(',')\n",
        "          labels[int(n)] = l\n",
        "        for n, l in labels.items():\n",
        "          if res.check_node(n):\n",
        "            res.set_node_metadata(n, {'leaning': l})\n",
        "  else:\n",
        "      # res is a list of hypergraphs\n",
        "      res = [hgx.Hypergraph(), hgx.Hypergraph(),\n",
        "           hgx.Hypergraph(), hgx.Hypergraph(),\n",
        "           hgx.Hypergraph()]\n",
        "      with open(f\"icwsm2025/{dataset_name}-edges.txt\") as f:\n",
        "        for line in f:\n",
        "          line = line.strip().split()\n",
        "          t = int(line[0])\n",
        "          edge = [int(x) for x in line[1:]]\n",
        "          res[t].add_edge(edge)\n",
        "      if attributes:\n",
        "        with open(f\"icwsm2025/{dataset_name}-labels.csv\") as f:\n",
        "          for line in f:\n",
        "            n, t, l = line.strip().split(',')\n",
        "            if res[int(t)].check_node(int(n)):\n",
        "              res[int(t)].set_node_metadata(int(n), {'leaning': l})\n",
        "  return res"
      ]
    },
    {
      "cell_type": "code",
      "execution_count": 26,
      "id": "pyTPINcJeHqp",
      "metadata": {
        "colab": {
          "base_uri": "https://localhost:8080/"
        },
        "id": "pyTPINcJeHqp",
        "outputId": "579d7a32-86cb-47b2-c02e-a35d8edc625a"
      },
      "outputs": [
        {
          "name": "stdout",
          "output_type": "stream",
          "text": [
            "0\t11647 12523 12808 13028\n",
            "\n",
            "0\t11647 11994 12808 13028\n",
            "\n",
            "0\t10940 11155 11647 11994 12808\n",
            "\n",
            "11647,0,antitrump\n",
            "\n",
            "12808,0,antitrump\n",
            "\n",
            "12523,0,neutral\n",
            "\n",
            "Hypergraph with 3269 nodes and 7079 edges.\n",
            "Distribution of hyperedge sizes: {4: 569, 5: 163, 3: 1867, 2: 4343, 6: 88, 8: 16, 7: 31, 9: 2}\n"
          ]
        }
      ],
      "source": [
        "# USAGE EXAMPLE\n",
        "\n",
        "dataset = 'politics' # or 'minorities' or 'guncontrol'\n",
        "attributes = False # whether to load users' estimated political leanings\n",
        "by_timestamp = False # whether to load one aggregated hypergraph, or\n",
        "                     # a list of hypergraphs (one for each timestampd)\n",
        "\n",
        "with open(f\"icwsm2025/politics-edges.txt\") as f:\n",
        "      r = f.readlines()\n",
        "      for i in range(3):\n",
        "        print(r[i])\n",
        "\n",
        "with open(f\"icwsm2025/politics-labels.csv\") as f:\n",
        "      r = f.readlines()\n",
        "      for i in range(3):\n",
        "        print(r[i])\n",
        "\n",
        "h = load_reddit_data(dataset, attributes, by_timestamp)\n",
        "\n",
        "print(h)"
      ]
    },
    {
      "cell_type": "markdown",
      "id": "Fr19Zi6xhbNb",
      "metadata": {
        "id": "Fr19Zi6xhbNb"
      },
      "source": [
        "**E1: Identify the hyperedge with the highest closeness centrality. Then, identify the node with the highest closeness centrality**"
      ]
    },
    {
      "cell_type": "code",
      "execution_count": 27,
      "id": "zp0VuK5PQDUG",
      "metadata": {
        "colab": {
          "base_uri": "https://localhost:8080/"
        },
        "id": "zp0VuK5PQDUG",
        "outputId": "62a6fce5-3613-496b-ab54-3aa00ddd815a"
      },
      "outputs": [
        {
          "name": "stdout",
          "output_type": "stream",
          "text": [
            "Hyperedge with highest s=1 closeness centrality: (10649, 11017, 12112, 12144)\n",
            "Centrality: 0.4131739154485693\n"
          ]
        }
      ],
      "source": [
        "from hypergraphx.measures.s_centralities import s_closeness\n",
        "from collections import Counter\n",
        "\n",
        "# Compute s=1 closeness centrality for hyperedges\n",
        "edge_centrality = s_closeness(h, s=1)\n",
        "max_edge = max(edge_centrality, key=edge_centrality.get)\n",
        "print(\"Hyperedge with highest s=1 closeness centrality:\", max_edge)\n",
        "print(\"Centrality:\", edge_centrality[max_edge])"
      ]
    },
    {
      "cell_type": "code",
      "execution_count": 28,
      "id": "1_-gzlPTC1hz",
      "metadata": {
        "colab": {
          "base_uri": "https://localhost:8080/"
        },
        "id": "1_-gzlPTC1hz",
        "outputId": "61438082-a453-4699-f821-28b50c636bcd"
      },
      "outputs": [
        {
          "name": "stdout",
          "output_type": "stream",
          "text": [
            "Node with highest closeness centrality: 12144\n",
            "Centrality: 0.35460928485149845\n"
          ]
        }
      ],
      "source": [
        "# Compute closeness centrality for nodes using projection\n",
        "n_cls = s_closeness_nodes(h)\n",
        "max_node = max(n_cls, key=n_cls.get)\n",
        "print(\"Node with highest closeness centrality:\", max_node)\n",
        "print(\"Centrality:\", n_cls[max_node])"
      ]
    },
    {
      "cell_type": "markdown",
      "id": "59cfb4d7-e81c-46f1-82de-3e48bce9de37",
      "metadata": {
        "id": "59cfb4d7-e81c-46f1-82de-3e48bce9de37"
      },
      "source": [
        "**E2: Identify one of the largest hyperedges. Compute s-closeness centrality for various s values. Is the largest hyperedge also the highest ranked by centrality? Is this affected by s? Why?**"
      ]
    },
    {
      "cell_type": "code",
      "execution_count": 29,
      "id": "9b6c2c94-f58c-4c35-8f39-5c9f79dcd690",
      "metadata": {
        "colab": {
          "base_uri": "https://localhost:8080/"
        },
        "id": "9b6c2c94-f58c-4c35-8f39-5c9f79dcd690",
        "outputId": "63015198-f2d5-4b0b-db6b-1f41d9c18e64"
      },
      "outputs": [
        {
          "name": "stdout",
          "output_type": "stream",
          "text": [
            "One of the largest hyperedges: (1384, 8804, 10895, 10940, 11155, 12344, 12517, 12551, 12991) with size: 9\n",
            "s=1, closeness centrality for large_edge: 0.35967698576152324\n",
            "s=1, max central edge: (10649, 11017, 12112, 12144) with score 0.4131739154485693\n",
            "s=2, closeness centrality for large_edge: 0.06524058541511951\n",
            "s=2, max central edge: (10940, 11017, 11422, 11541) with score 0.07681459924428016\n",
            "s=3, closeness centrality for large_edge: 0.021170113894661485\n",
            "s=3, max central edge: (10940, 11017, 11422, 11541) with score 0.02493163084924904\n"
          ]
        }
      ],
      "source": [
        "edges_by_size = sorted(h.get_edges(), key=len, reverse=True)\n",
        "large_edge = edges_by_size[0]\n",
        "print(\"One of the largest hyperedges:\", large_edge, \"with size:\", len(large_edge))\n",
        "\n",
        "# Compute s-closeness centrality at various s values\n",
        "for s in [1, 2, 3]:\n",
        "    sc = s_closeness(h, s=s)\n",
        "    print(f\"s={s}, closeness centrality for large_edge: {sc.get(large_edge, 0)}\")\n",
        "    max_edge = max(sc, key=sc.get)\n",
        "    print(f\"s={s}, max central edge: {max_edge} with score {sc[max_edge]}\")"
      ]
    },
    {
      "cell_type": "markdown",
      "id": "Jqi9iNjWgAWD",
      "metadata": {
        "id": "Jqi9iNjWgAWD"
      },
      "source": [
        "**E3: Construct the dendrogram with the hyperlink communities. Then, try 3 thresholds to partition the hypergraph.**"
      ]
    },
    {
      "cell_type": "code",
      "execution_count": 30,
      "id": "YgD2cOJRgqIP",
      "metadata": {
        "colab": {
          "base_uri": "https://localhost:8080/"
        },
        "id": "YgD2cOJRgqIP",
        "outputId": "bcef152e-aa6d-49b6-e0e3-157cb7bb8a11"
      },
      "outputs": [
        {
          "name": "stdout",
          "output_type": "stream",
          "text": [
            "Hypergraph info - nodes: 3269 edges: 7079\n",
            "Subhypergraph info - nodes: 3219 edges: 7054\n",
            "Computing distances\n",
            "dist computed\n",
            "Cut height 0.8 → 825 communities\n",
            "Cut height 0.9 → 462 communities\n",
            "Cut height 0.99 → 117 communities\n"
          ]
        }
      ],
      "source": [
        "from hypergraphx.communities.hyperlink_comm.hyperlink_communities import (\n",
        "    hyperlink_communities, get_num_hyperlink_communties, overlapping_communities\n",
        ")\n",
        "\n",
        "# Build dendrogram\n",
        "dendrogram = hyperlink_communities(h)\n",
        "\n",
        "# Try 3 thresholds\n",
        "cut_heights = [0.8, 0.9, 0.99]\n",
        "for cut in cut_heights:\n",
        "    n_comms = get_num_hyperlink_communties(dendrogram, cut)\n",
        "    print(f\"Cut height {cut} → {n_comms} communities\")"
      ]
    },
    {
      "cell_type": "markdown",
      "id": "KEKYEeAIgmpd",
      "metadata": {
        "id": "KEKYEeAIgmpd"
      },
      "source": [
        "**E4: Cut the dendrogram at 0.99. Find the node with the highest number of community memberships and compute its degree.**"
      ]
    },
    {
      "cell_type": "code",
      "execution_count": 31,
      "id": "ei4XfdyBhAD3",
      "metadata": {
        "colab": {
          "base_uri": "https://localhost:8080/"
        },
        "id": "ei4XfdyBhAD3",
        "outputId": "fea8c221-d764-41b0-f463-47e54f945072"
      },
      "outputs": [
        {
          "name": "stdout",
          "output_type": "stream",
          "text": [
            "Node with most community memberships: 10895 (143 memberships)\n",
            "Degree (number of incident edges): 219\n"
          ]
        }
      ],
      "source": [
        "# Compute communities at cut height 0.99\n",
        "communities = overlapping_communities(h, dendrogram, cut_height=0.99)\n",
        "\n",
        "# Find node with most memberships\n",
        "node_memberships = {node: len(c) for node, c in communities.items()}\n",
        "max_node = max(node_memberships, key=node_memberships.get)\n",
        "\n",
        "print(f\"Node with most community memberships: {max_node} ({node_memberships[max_node]} memberships)\")\n",
        "\n",
        "# Compute degree of that node\n",
        "incident_edges = h.get_incident_edges(max_node)\n",
        "print(f\"Degree (number of incident edges): {len(incident_edges)}\")"
      ]
    }
  ],
  "metadata": {
    "colab": {
      "provenance": []
    },
    "kernelspec": {
      "display_name": "Python 3",
      "language": "python",
      "name": "python3"
    },
    "language_info": {
      "codemirror_mode": {
        "name": "ipython",
        "version": 3
      },
      "file_extension": ".py",
      "mimetype": "text/x-python",
      "name": "python",
      "nbconvert_exporter": "python",
      "pygments_lexer": "ipython3",
      "version": "3.9.6"
    }
  },
  "nbformat": 4,
  "nbformat_minor": 5
}
